{
 "cells": [
  {
   "cell_type": "markdown",
   "id": "41af8600-9bf3-4ba6-8a06-8194e3893384",
   "metadata": {},
   "source": [
    "## Dataloader"
   ]
  },
  {
   "cell_type": "code",
   "execution_count": 1,
   "id": "7530a5f6-13e7-49a6-bdaa-c074ff134e07",
   "metadata": {
    "colab": {
     "base_uri": "https://localhost:8080/"
    },
    "id": "7530a5f6-13e7-49a6-bdaa-c074ff134e07",
    "outputId": "c26193d5-1208-422a-f428-8107ba4a36ee"
   },
   "outputs": [],
   "source": [
    "import os\n",
    "from torchvision import datasets, transforms\n",
    "from torch.utils.data import DataLoader\n",
    "\n",
    "def create_train_val_test_dataloaders(data_dir, batch_size, num_workers=4):\n",
    "    # Define specific transformations for each dataset\n",
    "    data_transforms = {\n",
    "        'train': transforms.Compose([\n",
    "            transforms.Resize((244, 244)),\n",
    "            transforms.ToTensor(),\n",
    "            transforms.Normalize(mean=[0.485, 0.456, 0.406], std=[0.229, 0.224, 0.225]),\n",
    "        ]),\n",
    "        'test': transforms.Compose([\n",
    "            transforms.Resize((244, 244)),\n",
    "            transforms.ToTensor(),\n",
    "            transforms.Normalize(mean=[0.485, 0.456, 0.406], std=[0.229, 0.224, 0.225]),\n",
    "        ]),\n",
    "    }\n",
    "\n",
    "    # Create datasets using specific transformations\n",
    "    image_datasets = {\n",
    "        'train': datasets.ImageFolder(os.path.join(data_dir, 'train'), data_transforms['train']),\n",
    "        'test': datasets.ImageFolder(os.path.join(data_dir, 'test'), data_transforms['test'])\n",
    "    }\n",
    "\n",
    "    # Create dataloaders\n",
    "    dataloaders = {\n",
    "        'train': DataLoader(image_datasets['train'], batch_size=batch_size, shuffle=True, num_workers=num_workers),\n",
    "        'test': DataLoader(image_datasets['test'], batch_size=batch_size, shuffle=False, num_workers=num_workers)\n",
    "    }\n",
    "    return dataloaders\n",
    "\n",
    "data_dir = 'Dataset/'\n",
    "batch_size = 32\n",
    "dataloaders = create_train_val_test_dataloaders(data_dir, batch_size)"
   ]
  },
  {
   "cell_type": "code",
   "execution_count": 14,
   "id": "56f5239e-5cf0-423e-a85d-0baa6a39e1df",
   "metadata": {
    "colab": {
     "base_uri": "https://localhost:8080/"
    },
    "id": "56f5239e-5cf0-423e-a85d-0baa6a39e1df",
    "outputId": "8918dd06-5cb7-46c2-df8e-ad31b5f9490f"
   },
   "outputs": [
    {
     "data": {
      "text/plain": [
       "device(type='cuda')"
      ]
     },
     "execution_count": 14,
     "metadata": {},
     "output_type": "execute_result"
    }
   ],
   "source": [
    "import torch\n",
    "# Check if GPU is available and set the device accordingly\n",
    "device = torch.device(\"cuda\" if torch.cuda.is_available() else \"cpu\")\n",
    "device"
   ]
  },
  {
   "cell_type": "markdown",
   "id": "b2511af1-af9a-444c-9ca9-c87fde42cdaa",
   "metadata": {
    "id": "b2511af1-af9a-444c-9ca9-c87fde42cdaa"
   },
   "source": [
    "## Load Models"
   ]
  },
  {
   "cell_type": "code",
   "execution_count": 3,
   "id": "a922e780-d334-4702-a6be-bd296f0d4243",
   "metadata": {
    "id": "a922e780-d334-4702-a6be-bd296f0d4243"
   },
   "outputs": [],
   "source": [
    "import torch\n",
    "import torch.nn as nn\n",
    "import torch.optim as optim\n",
    "from torchvision import models\n",
    "\n",
    "def initialize_densenet(num_classes):\n",
    "    model = models.densenet121(weights='DenseNet121_Weights.DEFAULT')\n",
    "    num_ftrs = model.classifier.in_features\n",
    "    model.classifier = nn.Linear(num_ftrs, num_classes)\n",
    "    return model"
   ]
  },
  {
   "cell_type": "markdown",
   "id": "39acfe5e-6b6f-415a-9451-3b0420665d03",
   "metadata": {
    "id": "39acfe5e-6b6f-415a-9451-3b0420665d03"
   },
   "source": [
    "## Training"
   ]
  },
  {
   "cell_type": "code",
   "execution_count": 4,
   "id": "c2878010-e38d-4680-bfe7-9a34883873d2",
   "metadata": {
    "id": "c2878010-e38d-4680-bfe7-9a34883873d2"
   },
   "outputs": [],
   "source": [
    "from tqdm import tqdm\n",
    "import torch\n",
    "import os\n",
    "\n",
    "def train_model(model, dataloaders, criterion, optimizer, num_epochs, save_dir):\n",
    "    # Create directory for saving models if it doesn't exist\n",
    "    os.makedirs(save_dir, exist_ok=True)\n",
    "\n",
    "    train_loader = dataloaders['train']\n",
    "    test_loader = dataloaders['test']\n",
    "\n",
    "    for epoch in range(num_epochs):\n",
    "        # Training phase\n",
    "        model.train()\n",
    "        running_train_loss = 0.0\n",
    "        correct_train = 0\n",
    "        total_train = 0\n",
    "\n",
    "        for inputs, labels in tqdm(train_loader, desc=f'Epoch {epoch+1}/{num_epochs} - Training'):\n",
    "            inputs, labels = inputs.to(device), labels.to(device)\n",
    "\n",
    "            optimizer.zero_grad()\n",
    "\n",
    "            outputs = model(inputs).squeeze()\n",
    "            loss = criterion(outputs, labels.float())\n",
    "            loss.backward()\n",
    "            optimizer.step()\n",
    "\n",
    "            running_train_loss += loss.item() * inputs.size(0)\n",
    "\n",
    "            # Calculate accuracy\n",
    "            predicted = torch.round(torch.sigmoid(outputs))\n",
    "            correct_train += (predicted == labels.float()).sum().item()\n",
    "            total_train += labels.size(0)\n",
    "\n",
    "        train_loss = running_train_loss / len(train_loader.dataset)\n",
    "        train_acc = correct_train / total_train\n",
    "\n",
    "        # Validation phase\n",
    "        model.eval()\n",
    "        running_val_loss = 0.0\n",
    "        correct_val = 0\n",
    "        total_val = 0\n",
    "\n",
    "        with torch.no_grad():\n",
    "            for inputs, labels in tqdm(test_loader, desc=f'Epoch {epoch+1}/{num_epochs} - Validation'):\n",
    "                inputs, labels = inputs.to(device), labels.to(device)\n",
    "\n",
    "                outputs = model(inputs).squeeze()\n",
    "                loss = criterion(outputs, labels.float())\n",
    "\n",
    "                running_val_loss += loss.item() * inputs.size(0)\n",
    "\n",
    "                # Calculate accuracy\n",
    "                predicted = torch.round(torch.sigmoid(outputs))\n",
    "                correct_val += (predicted == labels.float()).sum().item()\n",
    "                total_val += labels.size(0)\n",
    "\n",
    "        val_loss = running_val_loss / len(test_loader.dataset)\n",
    "        val_acc = correct_val / total_val\n",
    "\n",
    "        # Print epoch statistics\n",
    "        print(f'Epoch [{epoch+1}/{num_epochs}] - '\n",
    "              f'Train Loss: {train_loss:.4f}, Train Acc: {train_acc*100:.2f}%, '\n",
    "              f'Val Loss: {val_loss:.4f}, Val Acc: {val_acc*100:.2f}%')\n",
    "\n",
    "        # Save the model after each epoch\n",
    "        torch.save(model.state_dict(), os.path.join(save_dir, f'model_epoch_{epoch+1}.pth'))\n",
    "\n",
    "    print('Training complete.')"
   ]
  },
  {
   "cell_type": "markdown",
   "id": "abfc5960-caed-40a7-95d9-62911d5f78cb",
   "metadata": {},
   "source": [
    "## DenseNet"
   ]
  },
  {
   "cell_type": "code",
   "execution_count": 5,
   "id": "b371ffc8-4427-48ad-99e6-7fbbc6825343",
   "metadata": {
    "colab": {
     "base_uri": "https://localhost:8080/"
    },
    "id": "b371ffc8-4427-48ad-99e6-7fbbc6825343",
    "outputId": "926ca488-4f74-4a6a-a21e-9c5a1a791504"
   },
   "outputs": [
    {
     "name": "stderr",
     "output_type": "stream",
     "text": [
      "Epoch 1/10 - Training: 100%|███████████████████████████████████████████████████████| 3125/3125 [11:25<00:00,  4.56it/s]\n",
      "Epoch 1/10 - Validation: 100%|███████████████████████████████████████████████████████| 625/625 [00:54<00:00, 11.55it/s]\n"
     ]
    },
    {
     "name": "stdout",
     "output_type": "stream",
     "text": [
      "Epoch [1/10] - Train Loss: 0.1241, Train Acc: 95.31%, Val Loss: 0.0748, Val Acc: 97.32%\n"
     ]
    },
    {
     "name": "stderr",
     "output_type": "stream",
     "text": [
      "Epoch 2/10 - Training: 100%|███████████████████████████████████████████████████████| 3125/3125 [11:23<00:00,  4.57it/s]\n",
      "Epoch 2/10 - Validation: 100%|███████████████████████████████████████████████████████| 625/625 [00:54<00:00, 11.57it/s]\n"
     ]
    },
    {
     "name": "stdout",
     "output_type": "stream",
     "text": [
      "Epoch [2/10] - Train Loss: 0.0728, Train Acc: 97.30%, Val Loss: 0.0625, Val Acc: 97.65%\n"
     ]
    },
    {
     "name": "stderr",
     "output_type": "stream",
     "text": [
      "Epoch 3/10 - Training: 100%|███████████████████████████████████████████████████████| 3125/3125 [12:22<00:00,  4.21it/s]\n",
      "Epoch 3/10 - Validation: 100%|███████████████████████████████████████████████████████| 625/625 [01:10<00:00,  8.93it/s]\n"
     ]
    },
    {
     "name": "stdout",
     "output_type": "stream",
     "text": [
      "Epoch [3/10] - Train Loss: 0.0515, Train Acc: 98.05%, Val Loss: 0.0591, Val Acc: 97.81%\n"
     ]
    },
    {
     "name": "stderr",
     "output_type": "stream",
     "text": [
      "Epoch 4/10 - Training: 100%|███████████████████████████████████████████████████████| 3125/3125 [15:09<00:00,  3.44it/s]\n",
      "Epoch 4/10 - Validation: 100%|███████████████████████████████████████████████████████| 625/625 [01:11<00:00,  8.76it/s]\n"
     ]
    },
    {
     "name": "stdout",
     "output_type": "stream",
     "text": [
      "Epoch [4/10] - Train Loss: 0.0401, Train Acc: 98.50%, Val Loss: 0.0617, Val Acc: 97.78%\n"
     ]
    },
    {
     "name": "stderr",
     "output_type": "stream",
     "text": [
      "Epoch 5/10 - Training: 100%|███████████████████████████████████████████████████████| 3125/3125 [15:16<00:00,  3.41it/s]\n",
      "Epoch 5/10 - Validation: 100%|███████████████████████████████████████████████████████| 625/625 [01:10<00:00,  8.88it/s]\n"
     ]
    },
    {
     "name": "stdout",
     "output_type": "stream",
     "text": [
      "Epoch [5/10] - Train Loss: 0.0326, Train Acc: 98.80%, Val Loss: 0.0682, Val Acc: 97.59%\n"
     ]
    },
    {
     "name": "stderr",
     "output_type": "stream",
     "text": [
      "Epoch 6/10 - Training: 100%|███████████████████████████████████████████████████████| 3125/3125 [15:08<00:00,  3.44it/s]\n",
      "Epoch 6/10 - Validation: 100%|███████████████████████████████████████████████████████| 625/625 [01:10<00:00,  8.84it/s]\n"
     ]
    },
    {
     "name": "stdout",
     "output_type": "stream",
     "text": [
      "Epoch [6/10] - Train Loss: 0.0268, Train Acc: 99.01%, Val Loss: 0.0536, Val Acc: 98.22%\n"
     ]
    },
    {
     "name": "stderr",
     "output_type": "stream",
     "text": [
      "Epoch 7/10 - Training: 100%|███████████████████████████████████████████████████████| 3125/3125 [15:34<00:00,  3.34it/s]\n",
      "Epoch 7/10 - Validation: 100%|███████████████████████████████████████████████████████| 625/625 [01:15<00:00,  8.32it/s]\n"
     ]
    },
    {
     "name": "stdout",
     "output_type": "stream",
     "text": [
      "Epoch [7/10] - Train Loss: 0.0236, Train Acc: 99.14%, Val Loss: 0.0610, Val Acc: 98.02%\n"
     ]
    },
    {
     "name": "stderr",
     "output_type": "stream",
     "text": [
      "Epoch 8/10 - Training: 100%|███████████████████████████████████████████████████████| 3125/3125 [15:20<00:00,  3.40it/s]\n",
      "Epoch 8/10 - Validation: 100%|███████████████████████████████████████████████████████| 625/625 [01:11<00:00,  8.73it/s]\n"
     ]
    },
    {
     "name": "stdout",
     "output_type": "stream",
     "text": [
      "Epoch [8/10] - Train Loss: 0.0206, Train Acc: 99.28%, Val Loss: 0.0569, Val Acc: 98.19%\n"
     ]
    },
    {
     "name": "stderr",
     "output_type": "stream",
     "text": [
      "Epoch 9/10 - Training: 100%|███████████████████████████████████████████████████████| 3125/3125 [15:11<00:00,  3.43it/s]\n",
      "Epoch 9/10 - Validation: 100%|███████████████████████████████████████████████████████| 625/625 [01:11<00:00,  8.79it/s]\n"
     ]
    },
    {
     "name": "stdout",
     "output_type": "stream",
     "text": [
      "Epoch [9/10] - Train Loss: 0.0181, Train Acc: 99.34%, Val Loss: 0.0591, Val Acc: 97.87%\n"
     ]
    },
    {
     "name": "stderr",
     "output_type": "stream",
     "text": [
      "Epoch 10/10 - Training: 100%|██████████████████████████████████████████████████████| 3125/3125 [15:28<00:00,  3.37it/s]\n",
      "Epoch 10/10 - Validation: 100%|██████████████████████████████████████████████████████| 625/625 [01:10<00:00,  8.85it/s]"
     ]
    },
    {
     "name": "stdout",
     "output_type": "stream",
     "text": [
      "Epoch [10/10] - Train Loss: 0.0164, Train Acc: 99.39%, Val Loss: 0.0611, Val Acc: 98.04%\n",
      "Training complete.\n"
     ]
    },
    {
     "name": "stderr",
     "output_type": "stream",
     "text": [
      "\n"
     ]
    }
   ],
   "source": [
    "model = initialize_densenet(num_classes=1).to(device)\n",
    "criterion = nn.BCEWithLogitsLoss()\n",
    "optimizer = optim.Adam(model.parameters(), lr=1e-4)\n",
    "train_model(model, dataloaders, criterion, optimizer, num_epochs=10, save_dir='Checkpoints/denseNet')"
   ]
  },
  {
   "cell_type": "markdown",
   "id": "28bf9365-9bbc-4dce-a8ef-fe4665a3f922",
   "metadata": {},
   "source": [
    "## Evaluation Metrices"
   ]
  },
  {
   "cell_type": "code",
   "execution_count": 15,
   "id": "d08d78b6-b65c-4c57-a865-9c919d8605ef",
   "metadata": {},
   "outputs": [],
   "source": [
    "# code to save the figures as high-res PNGs\n",
    "import os\n",
    "from pathlib import Path\n",
    "from matplotlib import pyplot as plt\n",
    "\n",
    "IMAGES_PATH = Path() / \"Images/DenseNet\"\n",
    "IMAGES_PATH.mkdir(parents=True, exist_ok=True)\n",
    "\n",
    "def save_fig(fig_id, tight_layout=True, fig_extension=\"png\", resolution=300):\n",
    "    path = IMAGES_PATH / f\"{fig_id}.{fig_extension}\"\n",
    "    if tight_layout:\n",
    "        plt.tight_layout()\n",
    "    plt.savefig(path, format=fig_extension, dpi=resolution)"
   ]
  },
  {
   "cell_type": "code",
   "execution_count": 23,
   "id": "67da994f-1897-47a9-9ce8-914618489a01",
   "metadata": {},
   "outputs": [],
   "source": [
    "from torch import nn\n",
    "from torchvision import models\n",
    "from tqdm import tqdm\n",
    "\n",
    "# Function to load the model with checkpoint\n",
    "def load_model(checkpoint_path, num_classes, device):\n",
    "    model = initialize_densenet(num_classes)\n",
    "    model.load_state_dict(torch.load(checkpoint_path, map_location=device))\n",
    "    model.to(device)\n",
    "    model.eval() \n",
    "    return model"
   ]
  },
  {
   "cell_type": "code",
   "execution_count": 17,
   "id": "87d876cf-1529-44d4-a653-f6b34e2b5385",
   "metadata": {},
   "outputs": [],
   "source": [
    "import torch\n",
    "from tqdm import tqdm\n",
    "from sklearn.metrics import classification_report, confusion_matrix\n",
    "import scikitplot as skplt\n",
    "\n",
    "def evaluate_model(model_name, model, test_loader, criterion):\n",
    "    model.eval()\n",
    "    test_loss = 0.0\n",
    "    correct = 0\n",
    "    total = 0\n",
    "    all_labels = []\n",
    "    all_predictions = []\n",
    "\n",
    "    with torch.no_grad():\n",
    "        for inputs, labels in tqdm(test_loader, desc='Testing'):\n",
    "            inputs, labels = inputs.to(device), labels.to(device)\n",
    "\n",
    "            outputs = model(inputs).squeeze()\n",
    "            loss = criterion(outputs, labels.float())\n",
    "\n",
    "            test_loss += loss.item() * inputs.size(0)\n",
    "\n",
    "            # Calculate accuracy\n",
    "            predicted = torch.round(torch.sigmoid(outputs))\n",
    "            correct += (predicted == labels.float()).sum().item()\n",
    "            total += labels.size(0)\n",
    "\n",
    "            # Collect all labels and predictions\n",
    "            all_labels.extend(labels.cpu().numpy())\n",
    "            all_predictions.extend(predicted.cpu().numpy())\n",
    "\n",
    "    test_loss = test_loss / len(test_loader.dataset)\n",
    "    test_acc = correct / total\n",
    "\n",
    "    print(f'Test Loss: {test_loss:.4f}, Test Accuracy: {test_acc*100:.2f}%')\n",
    "\n",
    "    # Generate classification report and confusion matrix\n",
    "    print(\"\\nClassification Report:\")\n",
    "    print(classification_report(all_labels, all_predictions, target_names=['FAKE', 'REAL']))\n",
    "\n",
    "    print(\"\\nConfusion Matrix:\")\n",
    "    skplt.metrics.plot_confusion_matrix(all_labels, all_predictions)\n",
    "    save_fig(f\"{model_name}_CM\")"
   ]
  },
  {
   "cell_type": "code",
   "execution_count": 24,
   "id": "29d67b2e-aabc-4e7b-aa1e-373a03d56a55",
   "metadata": {},
   "outputs": [],
   "source": [
    "# List of model loading functions\n",
    "model_functions = [\n",
    "    initialize_densenet\n",
    "]\n",
    "\n",
    "checkpoint_paths = [\n",
    "    'Checkpoints/denseNet/model_epoch_6.pth'\n",
    "]\n",
    "\n",
    "model_names = [\n",
    "    'denseNet'\n",
    "]"
   ]
  },
  {
   "cell_type": "code",
   "execution_count": 26,
   "id": "58af6f41-781a-463d-9a87-09968f8c1c65",
   "metadata": {},
   "outputs": [
    {
     "name": "stdout",
     "output_type": "stream",
     "text": [
      "Checkpoints/denseNet/model_epoch_6.pth\n"
     ]
    },
    {
     "name": "stderr",
     "output_type": "stream",
     "text": [
      "Testing: 100%|███████████████████████████████████████████████████████████████████████| 625/625 [01:13<00:00,  8.49it/s]\n"
     ]
    },
    {
     "name": "stdout",
     "output_type": "stream",
     "text": [
      "Test Loss: 0.0536, Test Accuracy: 98.22%\n",
      "\n",
      "Classification Report:\n",
      "              precision    recall  f1-score   support\n",
      "\n",
      "        FAKE       0.98      0.99      0.98     10000\n",
      "        REAL       0.99      0.98      0.98     10000\n",
      "\n",
      "    accuracy                           0.98     20000\n",
      "   macro avg       0.98      0.98      0.98     20000\n",
      "weighted avg       0.98      0.98      0.98     20000\n",
      "\n",
      "\n",
      "Confusion Matrix:\n"
     ]
    },
    {
     "data": {
      "image/png": "[encoded data removed]",
      "text/plain": [
       "<Figure size 640x480 with 2 Axes>"
      ]
     },
     "metadata": {},
     "output_type": "display_data"
    }
   ],
   "source": [
    "num_classes = 1\n",
    "loss_fn = nn.BCEWithLogitsLoss()\n",
    "\n",
    "for checkpoint_path, model_name in zip(checkpoint_paths, model_names):\n",
    "    # Load the model using the function\n",
    "    loaded_model = load_model(checkpoint_path, num_classes, device)\n",
    "    loaded_model = loaded_model.to(device)\n",
    "    # Evaluate the loaded model on the test set\n",
    "    print(checkpoint_path)\n",
    "    evaluate_model(model_name, loaded_model, dataloaders['test'], loss_fn)"
   ]
  },
  {
   "cell_type": "code",
   "execution_count": null,
   "id": "7663d71e-b6c5-47e9-8682-c05a2020ea9a",
   "metadata": {},
   "outputs": [],
   "source": []
  }
 ],
 "metadata": {
  "accelerator": "GPU",
  "colab": {
   "gpuType": "T4",
   "provenance": []
  },
  "kernelspec": {
   "display_name": "Python 3 (ipykernel)",
   "language": "python",
   "name": "python3"
  },
  "language_info": {
   "codemirror_mode": {
    "name": "ipython",
    "version": 3
   },
   "file_extension": ".py",
   "mimetype": "text/x-python",
   "name": "python",
   "nbconvert_exporter": "python",
   "pygments_lexer": "ipython3",
   "version": "3.11.7"
  }
 },
 "nbformat": 4,
 "nbformat_minor": 5
}
