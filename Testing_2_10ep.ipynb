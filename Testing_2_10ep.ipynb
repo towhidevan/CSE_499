{
 "cells": [
  {
   "cell_type": "markdown",
   "id": "41af8600-9bf3-4ba6-8a06-8194e3893384",
   "metadata": {},
   "source": [
    "## Dataloader"
   ]
  },
  {
   "cell_type": "code",
   "execution_count": 1,
   "id": "7530a5f6-13e7-49a6-bdaa-c074ff134e07",
   "metadata": {
    "colab": {
     "base_uri": "https://localhost:8080/"
    },
    "id": "7530a5f6-13e7-49a6-bdaa-c074ff134e07",
    "outputId": "c26193d5-1208-422a-f428-8107ba4a36ee"
   },
   "outputs": [],
   "source": [
    "import os\n",
    "from torchvision import datasets, transforms\n",
    "from torch.utils.data import DataLoader\n",
    "\n",
    "def create_train_val_test_dataloaders(data_dir, batch_size, num_workers=4):\n",
    "    # Define specific transformations for each dataset\n",
    "    data_transforms = {\n",
    "        'train': transforms.Compose([\n",
    "            transforms.Resize((244, 244)),\n",
    "            transforms.ToTensor(),\n",
    "            transforms.Normalize(mean=[0.485, 0.456, 0.406], std=[0.229, 0.224, 0.225]),\n",
    "        ]),\n",
    "        'val': transforms.Compose([\n",
    "            transforms.Resize((244, 244)),\n",
    "            transforms.ToTensor(),\n",
    "            transforms.Normalize(mean=[0.485, 0.456, 0.406], std=[0.229, 0.224, 0.225]),\n",
    "        ]),\n",
    "        'test': transforms.Compose([\n",
    "            transforms.Resize((244, 244)),\n",
    "            transforms.ToTensor(),\n",
    "            transforms.Normalize(mean=[0.485, 0.456, 0.406], std=[0.229, 0.224, 0.225]),\n",
    "        ]),\n",
    "    }\n",
    "\n",
    "    # Create datasets using specific transformations\n",
    "    image_datasets = {\n",
    "        'train': datasets.ImageFolder(os.path.join(data_dir, 'train'), data_transforms['train']),\n",
    "        'val': datasets.ImageFolder(os.path.join(data_dir, 'val'), data_transforms['val']),\n",
    "        'test': datasets.ImageFolder(os.path.join(data_dir, 'test'), data_transforms['test'])\n",
    "    }\n",
    "\n",
    "    # Create dataloaders\n",
    "    dataloaders = {\n",
    "        'train': DataLoader(image_datasets['train'], batch_size=batch_size, shuffle=True, num_workers=num_workers),\n",
    "        'val': DataLoader(image_datasets['val'], batch_size=batch_size, shuffle=False, num_workers=num_workers),\n",
    "        'test': DataLoader(image_datasets['test'], batch_size=batch_size, shuffle=False, num_workers=num_workers)\n",
    "    }\n",
    "\n",
    "    return dataloaders\n",
    "\n",
    "data_dir = 'Dataset_2/'\n",
    "batch_size = 32\n",
    "dataloaders = create_train_val_test_dataloaders(data_dir, batch_size)"
   ]
  },
  {
   "cell_type": "code",
   "execution_count": 7,
   "id": "56f5239e-5cf0-423e-a85d-0baa6a39e1df",
   "metadata": {
    "colab": {
     "base_uri": "https://localhost:8080/"
    },
    "id": "56f5239e-5cf0-423e-a85d-0baa6a39e1df",
    "outputId": "8918dd06-5cb7-46c2-df8e-ad31b5f9490f"
   },
   "outputs": [
    {
     "data": {
      "text/plain": [
       "device(type='cuda')"
      ]
     },
     "execution_count": 7,
     "metadata": {},
     "output_type": "execute_result"
    }
   ],
   "source": [
    "import torch\n",
    "# Check if GPU is available and set the device accordingly\n",
    "device = torch.device(\"cuda\" if torch.cuda.is_available() else \"cpu\")\n",
    "device"
   ]
  },
  {
   "cell_type": "markdown",
   "id": "b2511af1-af9a-444c-9ca9-c87fde42cdaa",
   "metadata": {
    "id": "b2511af1-af9a-444c-9ca9-c87fde42cdaa"
   },
   "source": [
    "## Load Models"
   ]
  },
  {
   "cell_type": "code",
   "execution_count": 6,
   "id": "a922e780-d334-4702-a6be-bd296f0d4243",
   "metadata": {
    "id": "a922e780-d334-4702-a6be-bd296f0d4243"
   },
   "outputs": [],
   "source": [
    "import torch\n",
    "import torch.nn as nn\n",
    "import torch.optim as optim\n",
    "from torchvision import models\n",
    "\n",
    "def load_resnet50(num_classes):\n",
    "    model =  models.resnet50(weights='ResNet50_Weights.DEFAULT')\n",
    "    num_features = model.fc.in_features\n",
    "    model.fc = nn.Linear(num_features, num_classes)\n",
    "    return model\n",
    "\n",
    "def load_efficientnet_b0(num_classes):\n",
    "    model = models.efficientnet_b0(weights='EfficientNet_B0_Weights.DEFAULT')\n",
    "    num_features = model.classifier[1].in_features\n",
    "    model.classifier[1] = nn.Linear(num_features, num_classes)\n",
    "    return model"
   ]
  },
  {
   "cell_type": "markdown",
   "id": "39acfe5e-6b6f-415a-9451-3b0420665d03",
   "metadata": {
    "id": "39acfe5e-6b6f-415a-9451-3b0420665d03"
   },
   "source": [
    "## Training"
   ]
  },
  {
   "cell_type": "code",
   "execution_count": 4,
   "id": "c2878010-e38d-4680-bfe7-9a34883873d2",
   "metadata": {
    "id": "c2878010-e38d-4680-bfe7-9a34883873d2"
   },
   "outputs": [],
   "source": [
    "from tqdm import tqdm\n",
    "import torch\n",
    "import os\n",
    "\n",
    "def train_model(model, dataloaders, criterion, optimizer, num_epochs, save_dir):\n",
    "    # Create directory for saving models if it doesn't exist\n",
    "    os.makedirs(save_dir, exist_ok=True)\n",
    "\n",
    "    train_loader = dataloaders['train']\n",
    "    val_loader = dataloaders['val']\n",
    "\n",
    "    for epoch in range(num_epochs):\n",
    "        # Training phase\n",
    "        model.train()\n",
    "        running_train_loss = 0.0\n",
    "        correct_train = 0\n",
    "        total_train = 0\n",
    "\n",
    "        for inputs, labels in tqdm(train_loader, desc=f'Epoch {epoch+1}/{num_epochs} - Training'):\n",
    "            inputs, labels = inputs.to(device), labels.to(device)\n",
    "\n",
    "            optimizer.zero_grad()\n",
    "\n",
    "            outputs = model(inputs).squeeze()\n",
    "            loss = criterion(outputs, labels.float())\n",
    "            loss.backward()\n",
    "            optimizer.step()\n",
    "\n",
    "            running_train_loss += loss.item() * inputs.size(0)\n",
    "\n",
    "            # Calculate accuracy\n",
    "            predicted = torch.round(torch.sigmoid(outputs))\n",
    "            correct_train += (predicted == labels.float()).sum().item()\n",
    "            total_train += labels.size(0)\n",
    "\n",
    "        train_loss = running_train_loss / len(train_loader.dataset)\n",
    "        train_acc = correct_train / total_train\n",
    "\n",
    "        # Validation phase\n",
    "        model.eval()\n",
    "        running_val_loss = 0.0\n",
    "        correct_val = 0\n",
    "        total_val = 0\n",
    "\n",
    "        with torch.no_grad():\n",
    "            for inputs, labels in tqdm(val_loader, desc=f'Epoch {epoch+1}/{num_epochs} - Validation'):\n",
    "                inputs, labels = inputs.to(device), labels.to(device)\n",
    "\n",
    "                outputs = model(inputs).squeeze()\n",
    "                loss = criterion(outputs, labels.float())\n",
    "\n",
    "                running_val_loss += loss.item() * inputs.size(0)\n",
    "\n",
    "                # Calculate accuracy\n",
    "                predicted = torch.round(torch.sigmoid(outputs))\n",
    "                correct_val += (predicted == labels.float()).sum().item()\n",
    "                total_val += labels.size(0)\n",
    "\n",
    "        val_loss = running_val_loss / len(val_loader.dataset)\n",
    "        val_acc = correct_val / total_val\n",
    "\n",
    "        # Print epoch statistics\n",
    "        print(f'Epoch [{epoch+1}/{num_epochs}] - '\n",
    "              f'Train Loss: {train_loss:.4f}, Train Acc: {train_acc*100:.2f}%, '\n",
    "              f'Val Loss: {val_loss:.4f}, Val Acc: {val_acc*100:.2f}%')\n",
    "\n",
    "        # Save the model after each epoch\n",
    "        torch.save(model.state_dict(), os.path.join(save_dir, f'model_epoch_{epoch+1}.pth'))\n",
    "\n",
    "    print('Training complete.')"
   ]
  },
  {
   "cell_type": "markdown",
   "id": "abfc5960-caed-40a7-95d9-62911d5f78cb",
   "metadata": {},
   "source": [
    "## ResNet50"
   ]
  },
  {
   "cell_type": "code",
   "execution_count": 6,
   "id": "b371ffc8-4427-48ad-99e6-7fbbc6825343",
   "metadata": {
    "colab": {
     "base_uri": "https://localhost:8080/"
    },
    "id": "b371ffc8-4427-48ad-99e6-7fbbc6825343",
    "outputId": "926ca488-4f74-4a6a-a21e-9c5a1a791504"
   },
   "outputs": [
    {
     "name": "stderr",
     "output_type": "stream",
     "text": [
      "Epoch 1/10 - Training: 100%|███████████████████████████████████████████████████████| 4376/4376 [14:54<00:00,  4.89it/s]\n",
      "Epoch 1/10 - Validation: 100%|█████████████████████████████████████████████████████| 1233/1233 [01:34<00:00, 13.00it/s]\n"
     ]
    },
    {
     "name": "stdout",
     "output_type": "stream",
     "text": [
      "Epoch [1/10] - Train Loss: 0.0976, Train Acc: 96.11%, Val Loss: 0.1053, Val Acc: 95.81%\n"
     ]
    },
    {
     "name": "stderr",
     "output_type": "stream",
     "text": [
      "Epoch 2/10 - Training: 100%|███████████████████████████████████████████████████████| 4376/4376 [14:53<00:00,  4.90it/s]\n",
      "Epoch 2/10 - Validation: 100%|█████████████████████████████████████████████████████| 1233/1233 [01:34<00:00, 13.05it/s]\n"
     ]
    },
    {
     "name": "stdout",
     "output_type": "stream",
     "text": [
      "Epoch [2/10] - Train Loss: 0.0616, Train Acc: 97.52%, Val Loss: 0.1272, Val Acc: 94.79%\n"
     ]
    },
    {
     "name": "stderr",
     "output_type": "stream",
     "text": [
      "Epoch 3/10 - Training: 100%|███████████████████████████████████████████████████████| 4376/4376 [14:53<00:00,  4.90it/s]\n",
      "Epoch 3/10 - Validation: 100%|█████████████████████████████████████████████████████| 1233/1233 [01:35<00:00, 12.96it/s]\n"
     ]
    },
    {
     "name": "stdout",
     "output_type": "stream",
     "text": [
      "Epoch [3/10] - Train Loss: 0.0515, Train Acc: 97.94%, Val Loss: 0.0794, Val Acc: 96.90%\n"
     ]
    },
    {
     "name": "stderr",
     "output_type": "stream",
     "text": [
      "Epoch 4/10 - Training: 100%|███████████████████████████████████████████████████████| 4376/4376 [15:13<00:00,  4.79it/s]\n",
      "Epoch 4/10 - Validation: 100%|█████████████████████████████████████████████████████| 1233/1233 [01:42<00:00, 12.03it/s]\n"
     ]
    },
    {
     "name": "stdout",
     "output_type": "stream",
     "text": [
      "Epoch [4/10] - Train Loss: 0.0427, Train Acc: 98.27%, Val Loss: 0.0989, Val Acc: 96.27%\n"
     ]
    },
    {
     "name": "stderr",
     "output_type": "stream",
     "text": [
      "Epoch 5/10 - Training: 100%|███████████████████████████████████████████████████████| 4376/4376 [15:28<00:00,  4.71it/s]\n",
      "Epoch 5/10 - Validation: 100%|█████████████████████████████████████████████████████| 1233/1233 [01:42<00:00, 12.07it/s]\n"
     ]
    },
    {
     "name": "stdout",
     "output_type": "stream",
     "text": [
      "Epoch [5/10] - Train Loss: 0.0379, Train Acc: 98.43%, Val Loss: 0.0770, Val Acc: 97.14%\n"
     ]
    },
    {
     "name": "stderr",
     "output_type": "stream",
     "text": [
      "Epoch 6/10 - Training: 100%|███████████████████████████████████████████████████████| 4376/4376 [15:14<00:00,  4.78it/s]\n",
      "Epoch 6/10 - Validation: 100%|█████████████████████████████████████████████████████| 1233/1233 [01:40<00:00, 12.24it/s]\n"
     ]
    },
    {
     "name": "stdout",
     "output_type": "stream",
     "text": [
      "Epoch [6/10] - Train Loss: 0.0323, Train Acc: 98.68%, Val Loss: 0.0776, Val Acc: 97.26%\n"
     ]
    },
    {
     "name": "stderr",
     "output_type": "stream",
     "text": [
      "Epoch 7/10 - Training: 100%|███████████████████████████████████████████████████████| 4376/4376 [15:27<00:00,  4.72it/s]\n",
      "Epoch 7/10 - Validation: 100%|█████████████████████████████████████████████████████| 1233/1233 [01:41<00:00, 12.10it/s]\n"
     ]
    },
    {
     "name": "stdout",
     "output_type": "stream",
     "text": [
      "Epoch [7/10] - Train Loss: 0.0286, Train Acc: 98.79%, Val Loss: 0.0979, Val Acc: 96.65%\n"
     ]
    },
    {
     "name": "stderr",
     "output_type": "stream",
     "text": [
      "Epoch 8/10 - Training: 100%|███████████████████████████████████████████████████████| 4376/4376 [15:17<00:00,  4.77it/s]\n",
      "Epoch 8/10 - Validation: 100%|█████████████████████████████████████████████████████| 1233/1233 [01:41<00:00, 12.14it/s]\n"
     ]
    },
    {
     "name": "stdout",
     "output_type": "stream",
     "text": [
      "Epoch [8/10] - Train Loss: 0.0258, Train Acc: 98.96%, Val Loss: 0.0702, Val Acc: 97.64%\n"
     ]
    },
    {
     "name": "stderr",
     "output_type": "stream",
     "text": [
      "Epoch 9/10 - Training: 100%|███████████████████████████████████████████████████████| 4376/4376 [15:16<00:00,  4.77it/s]\n",
      "Epoch 9/10 - Validation: 100%|█████████████████████████████████████████████████████| 1233/1233 [01:41<00:00, 12.19it/s]\n"
     ]
    },
    {
     "name": "stdout",
     "output_type": "stream",
     "text": [
      "Epoch [9/10] - Train Loss: 0.0228, Train Acc: 99.07%, Val Loss: 0.0632, Val Acc: 97.98%\n"
     ]
    },
    {
     "name": "stderr",
     "output_type": "stream",
     "text": [
      "Epoch 10/10 - Training: 100%|██████████████████████████████████████████████████████| 4376/4376 [15:15<00:00,  4.78it/s]\n",
      "Epoch 10/10 - Validation: 100%|████████████████████████████████████████████████████| 1233/1233 [01:40<00:00, 12.24it/s]"
     ]
    },
    {
     "name": "stdout",
     "output_type": "stream",
     "text": [
      "Epoch [10/10] - Train Loss: 0.0208, Train Acc: 99.14%, Val Loss: 0.0912, Val Acc: 97.22%\n",
      "Training complete.\n"
     ]
    },
    {
     "name": "stderr",
     "output_type": "stream",
     "text": [
      "\n"
     ]
    }
   ],
   "source": [
    "model = load_resnet50(num_classes=1).to(device)\n",
    "criterion = nn.BCEWithLogitsLoss()\n",
    "optimizer = optim.Adam(model.parameters(), lr=0.001)\n",
    "train_model(model, dataloaders, criterion, optimizer, num_epochs=10, save_dir='Checkpoints/resnet50_2')"
   ]
  },
  {
   "cell_type": "markdown",
   "id": "9ff6148b-f304-4acb-a2c5-044a1ab9a168",
   "metadata": {},
   "source": [
    "## EfficientNet"
   ]
  },
  {
   "cell_type": "code",
   "execution_count": 7,
   "id": "f05a9e53-e7e1-44c5-9742-623e2d494937",
   "metadata": {},
   "outputs": [
    {
     "name": "stderr",
     "output_type": "stream",
     "text": [
      "Epoch 1/10 - Training: 100%|███████████████████████████████████████████████████████| 4376/4376 [09:12<00:00,  7.93it/s]\n",
      "Epoch 1/10 - Validation: 100%|█████████████████████████████████████████████████████| 1233/1233 [00:58<00:00, 20.95it/s]\n"
     ]
    },
    {
     "name": "stdout",
     "output_type": "stream",
     "text": [
      "Epoch [1/10] - Train Loss: 0.0726, Train Acc: 97.20%, Val Loss: 0.0914, Val Acc: 96.53%\n"
     ]
    },
    {
     "name": "stderr",
     "output_type": "stream",
     "text": [
      "Epoch 2/10 - Training: 100%|███████████████████████████████████████████████████████| 4376/4376 [09:11<00:00,  7.93it/s]\n",
      "Epoch 2/10 - Validation: 100%|█████████████████████████████████████████████████████| 1233/1233 [00:58<00:00, 20.96it/s]\n"
     ]
    },
    {
     "name": "stdout",
     "output_type": "stream",
     "text": [
      "Epoch [2/10] - Train Loss: 0.0473, Train Acc: 98.17%, Val Loss: 0.0807, Val Acc: 96.98%\n"
     ]
    },
    {
     "name": "stderr",
     "output_type": "stream",
     "text": [
      "Epoch 3/10 - Training: 100%|███████████████████████████████████████████████████████| 4376/4376 [09:14<00:00,  7.89it/s]\n",
      "Epoch 3/10 - Validation: 100%|█████████████████████████████████████████████████████| 1233/1233 [00:58<00:00, 20.97it/s]\n"
     ]
    },
    {
     "name": "stdout",
     "output_type": "stream",
     "text": [
      "Epoch [3/10] - Train Loss: 0.0387, Train Acc: 98.51%, Val Loss: 0.0772, Val Acc: 97.39%\n"
     ]
    },
    {
     "name": "stderr",
     "output_type": "stream",
     "text": [
      "Epoch 4/10 - Training: 100%|███████████████████████████████████████████████████████| 4376/4376 [09:15<00:00,  7.88it/s]\n",
      "Epoch 4/10 - Validation: 100%|█████████████████████████████████████████████████████| 1233/1233 [00:58<00:00, 21.01it/s]\n"
     ]
    },
    {
     "name": "stdout",
     "output_type": "stream",
     "text": [
      "Epoch [4/10] - Train Loss: 0.0342, Train Acc: 98.64%, Val Loss: 0.0692, Val Acc: 97.62%\n"
     ]
    },
    {
     "name": "stderr",
     "output_type": "stream",
     "text": [
      "Epoch 5/10 - Training: 100%|███████████████████████████████████████████████████████| 4376/4376 [09:10<00:00,  7.95it/s]\n",
      "Epoch 5/10 - Validation: 100%|█████████████████████████████████████████████████████| 1233/1233 [00:58<00:00, 21.10it/s]\n"
     ]
    },
    {
     "name": "stdout",
     "output_type": "stream",
     "text": [
      "Epoch [5/10] - Train Loss: 0.0300, Train Acc: 98.82%, Val Loss: 0.0675, Val Acc: 97.74%\n"
     ]
    },
    {
     "name": "stderr",
     "output_type": "stream",
     "text": [
      "Epoch 6/10 - Training: 100%|███████████████████████████████████████████████████████| 4376/4376 [09:17<00:00,  7.86it/s]\n",
      "Epoch 6/10 - Validation: 100%|█████████████████████████████████████████████████████| 1233/1233 [00:59<00:00, 20.77it/s]\n"
     ]
    },
    {
     "name": "stdout",
     "output_type": "stream",
     "text": [
      "Epoch [6/10] - Train Loss: 0.0272, Train Acc: 98.91%, Val Loss: 0.0557, Val Acc: 97.94%\n"
     ]
    },
    {
     "name": "stderr",
     "output_type": "stream",
     "text": [
      "Epoch 7/10 - Training: 100%|███████████████████████████████████████████████████████| 4376/4376 [09:28<00:00,  7.70it/s]\n",
      "Epoch 7/10 - Validation: 100%|█████████████████████████████████████████████████████| 1233/1233 [01:00<00:00, 20.28it/s]\n"
     ]
    },
    {
     "name": "stdout",
     "output_type": "stream",
     "text": [
      "Epoch [7/10] - Train Loss: 0.0240, Train Acc: 99.03%, Val Loss: 0.0579, Val Acc: 98.03%\n"
     ]
    },
    {
     "name": "stderr",
     "output_type": "stream",
     "text": [
      "Epoch 8/10 - Training: 100%|███████████████████████████████████████████████████████| 4376/4376 [09:15<00:00,  7.88it/s]\n",
      "Epoch 8/10 - Validation: 100%|█████████████████████████████████████████████████████| 1233/1233 [00:58<00:00, 21.03it/s]\n"
     ]
    },
    {
     "name": "stdout",
     "output_type": "stream",
     "text": [
      "Epoch [8/10] - Train Loss: 0.0220, Train Acc: 99.11%, Val Loss: 0.0545, Val Acc: 98.22%\n"
     ]
    },
    {
     "name": "stderr",
     "output_type": "stream",
     "text": [
      "Epoch 9/10 - Training: 100%|███████████████████████████████████████████████████████| 4376/4376 [09:08<00:00,  7.98it/s]\n",
      "Epoch 9/10 - Validation: 100%|█████████████████████████████████████████████████████| 1233/1233 [00:59<00:00, 20.82it/s]\n"
     ]
    },
    {
     "name": "stdout",
     "output_type": "stream",
     "text": [
      "Epoch [9/10] - Train Loss: 0.0199, Train Acc: 99.17%, Val Loss: 0.0573, Val Acc: 98.14%\n"
     ]
    },
    {
     "name": "stderr",
     "output_type": "stream",
     "text": [
      "Epoch 10/10 - Training: 100%|██████████████████████████████████████████████████████| 4376/4376 [09:06<00:00,  8.01it/s]\n",
      "Epoch 10/10 - Validation: 100%|████████████████████████████████████████████████████| 1233/1233 [00:58<00:00, 21.20it/s]"
     ]
    },
    {
     "name": "stdout",
     "output_type": "stream",
     "text": [
      "Epoch [10/10] - Train Loss: 0.0187, Train Acc: 99.26%, Val Loss: 0.0558, Val Acc: 98.13%\n",
      "Training complete.\n"
     ]
    },
    {
     "name": "stderr",
     "output_type": "stream",
     "text": [
      "\n"
     ]
    }
   ],
   "source": [
    "model = load_efficientnet_b0(num_classes=1).to(device)\n",
    "criterion = nn.BCEWithLogitsLoss()\n",
    "optimizer = optim.Adam(model.parameters(), lr=0.001)\n",
    "train_model(model, dataloaders, criterion, optimizer, num_epochs=10, save_dir='Checkpoints/efficientnet_2')"
   ]
  },
  {
   "cell_type": "markdown",
   "id": "34d44ddf-5253-4f57-90d9-9e7d2c954630",
   "metadata": {},
   "source": [
    "## Testing"
   ]
  },
  {
   "cell_type": "code",
   "execution_count": 10,
   "id": "a708b862-2c2e-4311-8e44-ce1e5c185bb8",
   "metadata": {},
   "outputs": [],
   "source": [
    "# code to save the figures as high-res PNGs\n",
    "import os\n",
    "from pathlib import Path\n",
    "from matplotlib import pyplot as plt\n",
    "\n",
    "IMAGES_PATH = Path() / \"Images/TEST_2_10ep\"\n",
    "IMAGES_PATH.mkdir(parents=True, exist_ok=True)\n",
    "\n",
    "def save_fig(fig_id, tight_layout=True, fig_extension=\"png\", resolution=300):\n",
    "    path = IMAGES_PATH / f\"{fig_id}.{fig_extension}\"\n",
    "    if tight_layout:\n",
    "        plt.tight_layout()\n",
    "    plt.savefig(path, format=fig_extension, dpi=resolution)"
   ]
  },
  {
   "cell_type": "code",
   "execution_count": 11,
   "id": "e085b2ca-f6c8-47a4-87c2-9ac996fda2b2",
   "metadata": {},
   "outputs": [
    {
     "name": "stdout",
     "output_type": "stream",
     "text": [
      "Class to index mapping: {'Fake': 0, 'Real': 1}\n"
     ]
    }
   ],
   "source": [
    "import os\n",
    "from torchvision import datasets, transforms\n",
    "from torch.utils.data import DataLoader\n",
    "\n",
    "def create_test_dataloader(data_dir, batch_size, num_workers=4):\n",
    "    # Define transformations for the test dataset\n",
    "    data_transform = transforms.Compose([\n",
    "        transforms.Resize((244, 244)),\n",
    "        transforms.ToTensor(),\n",
    "        transforms.Normalize(mean=[0.485, 0.456, 0.406], std=[0.229, 0.224, 0.225]),\n",
    "    ])\n",
    "\n",
    "    # Create the test dataset\n",
    "    test_dataset = datasets.ImageFolder(os.path.join(data_dir, 'test'), transform=data_transform)\n",
    "\n",
    "    # Print the class-to-index mapping\n",
    "    print(\"Class to index mapping:\", test_dataset.class_to_idx)\n",
    "    \n",
    "    # Create the test dataloader\n",
    "    test_loader = DataLoader(test_dataset, batch_size=batch_size, shuffle=False, num_workers=num_workers)\n",
    "\n",
    "    return test_loader\n",
    "\n",
    "data_dir = 'Dataset_2/'\n",
    "batch_size = 32\n",
    "test_loader = create_test_dataloader(data_dir, batch_size)"
   ]
  },
  {
   "cell_type": "code",
   "execution_count": 12,
   "id": "f16cfa68-6b64-49a3-86ad-b9018d7c0c68",
   "metadata": {},
   "outputs": [],
   "source": [
    "from torch import nn\n",
    "from torchvision import models\n",
    "from tqdm import tqdm\n",
    "\n",
    "# Function to load the model\n",
    "def load_model(model_class, checkpoint_path, num_classes):\n",
    "    model = model_class(num_classes=num_classes)\n",
    "    model.load_state_dict(torch.load(checkpoint_path, map_location=device))\n",
    "    model.eval()\n",
    "    return model"
   ]
  },
  {
   "cell_type": "code",
   "execution_count": 13,
   "id": "6fd11265-feee-4cb7-9013-e9ebd87d1bd2",
   "metadata": {},
   "outputs": [],
   "source": [
    "import torch\n",
    "from tqdm import tqdm\n",
    "from sklearn.metrics import classification_report, confusion_matrix\n",
    "import scikitplot as skplt\n",
    "\n",
    "def evaluate_model(model_name, model, test_loader, criterion):\n",
    "    model.eval()\n",
    "    test_loss = 0.0\n",
    "    correct = 0\n",
    "    total = 0\n",
    "    all_labels = []\n",
    "    all_predictions = []\n",
    "\n",
    "    with torch.no_grad():\n",
    "        for inputs, labels in tqdm(test_loader, desc='Testing'):\n",
    "            inputs, labels = inputs.to(device), labels.to(device)\n",
    "\n",
    "            outputs = model(inputs).squeeze()\n",
    "            loss = criterion(outputs, labels.float())\n",
    "\n",
    "            test_loss += loss.item() * inputs.size(0)\n",
    "\n",
    "            # Calculate accuracy\n",
    "            predicted = torch.round(torch.sigmoid(outputs))\n",
    "            correct += (predicted == labels.float()).sum().item()\n",
    "            total += labels.size(0)\n",
    "\n",
    "            # Collect all labels and predictions\n",
    "            all_labels.extend(labels.cpu().numpy())\n",
    "            all_predictions.extend(predicted.cpu().numpy())\n",
    "\n",
    "    test_loss = test_loss / len(test_loader.dataset)\n",
    "    test_acc = correct / total\n",
    "\n",
    "    print(f'Test Loss: {test_loss:.4f}, Test Accuracy: {test_acc*100:.2f}%')\n",
    "\n",
    "    # Generate classification report and confusion matrix\n",
    "    print(\"\\nClassification Report:\")\n",
    "    print(classification_report(all_labels, all_predictions, target_names=['FAKE', 'REAL']))\n",
    "\n",
    "    print(\"\\nConfusion Matrix:\")\n",
    "    skplt.metrics.plot_confusion_matrix(all_labels, all_predictions)\n",
    "    save_fig(f\"{model_name}_CM\")"
   ]
  },
  {
   "cell_type": "code",
   "execution_count": 14,
   "id": "f0849a77-fb1f-4c34-a2d9-0fedc1a1a06a",
   "metadata": {},
   "outputs": [],
   "source": [
    "# List of model loading functions\n",
    "model_functions = [\n",
    "    load_resnet50,\n",
    "    load_efficientnet_b0,\n",
    "]\n",
    "\n",
    "checkpoint_paths = [\n",
    "    'Checkpoints/resnet50_2/model_epoch_9.pth',\n",
    "    'Checkpoints/efficientnet_2/model_epoch_8.pth',\n",
    "]\n",
    "\n",
    "model_names = [\n",
    "    'resnet50', 'efficientnet'\n",
    "]"
   ]
  },
  {
   "cell_type": "code",
   "execution_count": 15,
   "id": "c556f7b5-7bfb-43ef-9536-37973706842e",
   "metadata": {},
   "outputs": [
    {
     "name": "stdout",
     "output_type": "stream",
     "text": [
      "Checkpoints/resnet50_2/model_epoch_9.pth\n"
     ]
    },
    {
     "name": "stderr",
     "output_type": "stream",
     "text": [
      "Testing:  99%|██████████████████████████████████████████████████████████████████████▌| 339/341 [00:34<00:00, 13.58it/s]C:\\Users\\User\\anaconda3\\Lib\\site-packages\\torch\\nn\\modules\\conv.py:456: UserWarning: Plan failed with a cudnnException: CUDNN_BACKEND_EXECUTION_PLAN_DESCRIPTOR: cudnnFinalize Descriptor Failed cudnn_status: CUDNN_STATUS_NOT_SUPPORTED (Triggered internally at C:\\cb\\pytorch_1000000000000\\work\\aten\\src\\ATen\\native\\cudnn\\Conv_v8.cpp:919.)\n",
      "  return F.conv2d(input, weight, bias, self.stride,\n",
      "Testing: 100%|███████████████████████████████████████████████████████████████████████| 341/341 [00:35<00:00,  9.56it/s]\n"
     ]
    },
    {
     "name": "stdout",
     "output_type": "stream",
     "text": [
      "Test Loss: 0.3632, Test Accuracy: 91.32%\n",
      "\n",
      "Classification Report:\n",
      "              precision    recall  f1-score   support\n",
      "\n",
      "        FAKE       0.88      0.96      0.92      5492\n",
      "        REAL       0.96      0.86      0.91      5413\n",
      "\n",
      "    accuracy                           0.91     10905\n",
      "   macro avg       0.92      0.91      0.91     10905\n",
      "weighted avg       0.92      0.91      0.91     10905\n",
      "\n",
      "\n",
      "Confusion Matrix:\n",
      "Checkpoints/efficientnet_2/model_epoch_8.pth\n"
     ]
    },
    {
     "name": "stderr",
     "output_type": "stream",
     "text": [
      "Testing: 100%|███████████████████████████████████████████████████████████████████████| 341/341 [00:23<00:00, 14.40it/s]\n"
     ]
    },
    {
     "name": "stdout",
     "output_type": "stream",
     "text": [
      "Test Loss: 0.6828, Test Accuracy: 90.44%\n",
      "\n",
      "Classification Report:\n",
      "              precision    recall  f1-score   support\n",
      "\n",
      "        FAKE       0.86      0.97      0.91      5492\n",
      "        REAL       0.96      0.84      0.90      5413\n",
      "\n",
      "    accuracy                           0.90     10905\n",
      "   macro avg       0.91      0.90      0.90     10905\n",
      "weighted avg       0.91      0.90      0.90     10905\n",
      "\n",
      "\n",
      "Confusion Matrix:\n"
     ]
    },
    {
     "data": {
      "image/png": "[encoded data removed]",
      "text/plain": [
       "<Figure size 640x480 with 2 Axes>"
      ]
     },
     "metadata": {},
     "output_type": "display_data"
    },
    {
     "data": {
      "image/png": "[encoded data removed]",
      "text/plain": [
       "<Figure size 640x480 with 2 Axes>"
      ]
     },
     "metadata": {},
     "output_type": "display_data"
    }
   ],
   "source": [
    "num_classes = 1\n",
    "loss_fn = nn.BCEWithLogitsLoss()\n",
    "\n",
    "for get_model, checkpoint_path, model_name in zip(model_functions, checkpoint_paths, model_names):\n",
    "    # Load the model using the function\n",
    "    loaded_model = load_model(get_model, checkpoint_path, num_classes)\n",
    "    loaded_model = loaded_model.to(device)\n",
    "    # Evaluate the loaded model on the test set\n",
    "    print(checkpoint_path)\n",
    "    evaluate_model(model_name, loaded_model, test_loader, loss_fn)"
   ]
  }
 ],
 "metadata": {
  "accelerator": "GPU",
  "colab": {
   "gpuType": "T4",
   "provenance": []
  },
  "kernelspec": {
   "display_name": "Python 3 (ipykernel)",
   "language": "python",
   "name": "python3"
  },
  "language_info": {
   "codemirror_mode": {
    "name": "ipython",
    "version": 3
   },
   "file_extension": ".py",
   "mimetype": "text/x-python",
   "name": "python",
   "nbconvert_exporter": "python",
   "pygments_lexer": "ipython3",
   "version": "3.11.7"
  }
 },
 "nbformat": 4,
 "nbformat_minor": 5
}
