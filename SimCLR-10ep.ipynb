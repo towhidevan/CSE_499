{
 "cells": [
  {
   "cell_type": "markdown",
   "id": "fce37683-082d-4fef-976b-53e46d442272",
   "metadata": {},
   "source": [
    "## Data Loader"
   ]
  },
  {
   "cell_type": "code",
   "execution_count": null,
   "id": "e5bbdfae-7bf2-481d-b1fa-7207a9aef699",
   "metadata": {},
   "outputs": [],
   "source": [
    "import os\n",
    "from torchvision import datasets, transforms\n",
    "from torch.utils.data import DataLoader, Dataset\n",
    "import random\n",
    "\n",
    "class SimCLRDataset(Dataset):\n",
    "    def __init__(self, root_dir, transform=None):\n",
    "        self.dataset = datasets.ImageFolder(root_dir)\n",
    "        self.transform = transform\n",
    "\n",
    "    def __len__(self):\n",
    "        return len(self.dataset)\n",
    "\n",
    "    def __getitem__(self, idx):\n",
    "        img, label = self.dataset[idx]\n",
    "        # Apply transformations twice to get two different views of the same image\n",
    "        if self.transform:\n",
    "            img1 = self.transform(img)\n",
    "            img2 = self.transform(img)\n",
    "        return (img1, img2), label\n",
    "\n",
    "def create_train_val_test_dataloaders(data_dir, batch_size, num_workers=0):\n",
    "    # Define transformations with SimCLR augmentations\n",
    "    data_transforms = {\n",
    "        'train': transforms.Compose([\n",
    "            transforms.RandomResizedCrop(224),\n",
    "            transforms.RandomHorizontalFlip(),\n",
    "            transforms.ColorJitter(brightness=0.5, contrast=0.5, saturation=0.5, hue=0.1),\n",
    "            transforms.ToTensor(),\n",
    "            transforms.Normalize(mean=[0.485, 0.456, 0.406], std=[0.229, 0.224, 0.225]),\n",
    "        ]),\n",
    "        'test': transforms.Compose([\n",
    "            transforms.Resize((224, 224)),\n",
    "            transforms.ToTensor(),\n",
    "            transforms.Normalize(mean=[0.485, 0.456, 0.406], std=[0.229, 0.224, 0.225]),\n",
    "        ]),\n",
    "    }\n",
    "\n",
    "    # Create custom datasets with two-view augmentation\n",
    "    image_datasets = {\n",
    "        'train': SimCLRDataset(os.path.join(data_dir, 'train'), transform=data_transforms['train']),\n",
    "        'test': SimCLRDataset(os.path.join(data_dir, 'test'), transform=data_transforms['test'])\n",
    "    }\n",
    "\n",
    "    # Create dataloaders\n",
    "    dataloaders = {\n",
    "        'train': DataLoader(image_datasets['train'], batch_size=batch_size, shuffle=True, num_workers=num_workers),\n",
    "        'test': DataLoader(image_datasets['test'], batch_size=batch_size, shuffle=False, num_workers=num_workers)\n",
    "    }\n",
    "\n",
    "    return dataloaders\n",
    "\n",
    "# Example usage\n",
    "data_dir = 'Dataset/'\n",
    "batch_size = 32\n",
    "dataloaders = create_train_val_test_dataloaders(data_dir, batch_size)"
   ]
  },
  {
   "cell_type": "markdown",
   "id": "54bc2c24-e3f7-4120-8f0b-c945cdc8ba0b",
   "metadata": {},
   "source": [
    "## Switch to GPU"
   ]
  },
  {
   "cell_type": "code",
   "execution_count": null,
   "id": "5b5639fa-d5c0-44e7-b2dd-007782501c06",
   "metadata": {},
   "outputs": [],
   "source": [
    "import torch\n",
    "# Check if GPU is available and set the device accordingly\n",
    "device = torch.device(\"cuda\" if torch.cuda.is_available() else \"cpu\")\n",
    "device"
   ]
  },
  {
   "cell_type": "markdown",
   "id": "5283d30f-5e60-46ae-b969-6073d2e4da13",
   "metadata": {},
   "source": [
    "## Define SimCLR"
   ]
  },
  {
   "cell_type": "code",
   "execution_count": null,
   "id": "23d8f09e-b677-4d75-95e9-4d26d100aa82",
   "metadata": {},
   "outputs": [],
   "source": [
    "import torch\n",
    "import torch.nn as nn\n",
    "import torchvision.models as models\n",
    "\n",
    "class SimCLRClassifier(nn.Module):\n",
    "    def __init__(self, base_model, feature_dim=512):\n",
    "        super(SimCLRClassifier, self).__init__()\n",
    "        self.base_model = base_model\n",
    "        self.fc = nn.Linear(feature_dim, 1)  # For binary classification\n",
    "\n",
    "    def forward(self, x):\n",
    "        features = self.base_model(x)\n",
    "        features = features.view(features.size(0), -1)\n",
    "        output = self.fc(features)\n",
    "        return output\n",
    "\n",
    "# Load a pre-trained ResNet model\n",
    "base_model = models.resnet18(weights='ResNet18_Weights.DEFAULT')\n",
    "base_model.fc = nn.Identity()  # Remove the final classification layer\n",
    "\n",
    "model = SimCLRClassifier(base_model).to(device)"
   ]
  },
  {
   "cell_type": "markdown",
   "id": "d76755ad-04ad-43b6-a51c-36bd074053e8",
   "metadata": {},
   "source": [
    "## Define Loss and Optimizer"
   ]
  },
  {
   "cell_type": "code",
   "execution_count": null,
   "id": "5f96b35b-4096-484b-b8d2-a88c2b21fb0f",
   "metadata": {},
   "outputs": [],
   "source": [
    "import torch.optim as optim\n",
    "\n",
    "criterion = nn.BCEWithLogitsLoss()\n",
    "optimizer = optim.Adam(model.parameters(), lr=1e-4)"
   ]
  },
  {
   "cell_type": "markdown",
   "id": "e7d9686b-0545-4fe3-aafb-c65c82662d0e",
   "metadata": {},
   "source": [
    "## Training and Validation"
   ]
  },
  {
   "cell_type": "code",
   "execution_count": null,
   "id": "65628d41-214f-4a51-b299-07c6b2f4338c",
   "metadata": {},
   "outputs": [],
   "source": [
    "def train_one_epoch(model, dataloader, criterion, optimizer):\n",
    "    model.train()\n",
    "    running_loss = 0.0\n",
    "    correct = 0\n",
    "    total = 0\n",
    "    \n",
    "    for (img1, img2), labels in tqdm(dataloader, desc=\"Training\"):\n",
    "        model.to(device)\n",
    "        img1, img2 = img1.to(device), img2.to(device)\n",
    "        labels = labels.float().to(device).view(-1, 1)  # Reshape for binary classification\n",
    "\n",
    "        optimizer.zero_grad()\n",
    "        \n",
    "        # Forward pass for both views\n",
    "        outputs1 = model(img1)\n",
    "        outputs2 = model(img2)\n",
    "        \n",
    "        # Calculate loss\n",
    "        loss = criterion(outputs1, labels) + criterion(outputs2, labels)  # Sum losses for both views\n",
    "        loss.backward()\n",
    "        optimizer.step()\n",
    "\n",
    "        running_loss += loss.item()\n",
    "        \n",
    "        # Predictions\n",
    "        preds = (torch.sigmoid(outputs1) > 0.5).float()\n",
    "        correct += (preds == labels).sum().item()\n",
    "        total += labels.size(0)\n",
    "\n",
    "    epoch_loss = running_loss / len(dataloader)\n",
    "    accuracy = correct / total * 100\n",
    "    return epoch_loss, accuracy\n",
    "\n",
    "def validate_one_epoch(model, dataloader, criterion):\n",
    "    model.eval()\n",
    "    running_loss = 0.0\n",
    "    correct = 0\n",
    "    total = 0\n",
    "\n",
    "    with torch.no_grad():\n",
    "        for (img1, img2), labels in tqdm(dataloader, desc=\"Testing\"):\n",
    "            model.to(device)\n",
    "            img1, img2 = img1.to(device), img2.to(device)\n",
    "            labels = labels.float().to(device).view(-1, 1)  # Reshape for binary classification\n",
    "\n",
    "            # Forward pass\n",
    "            outputs1 = model(img1)\n",
    "            outputs2 = model(img2)\n",
    "\n",
    "            # Calculate loss\n",
    "            loss = criterion(outputs1, labels) + criterion(outputs2, labels)\n",
    "            running_loss += loss.item()\n",
    "\n",
    "            # Predictions\n",
    "            preds = (torch.sigmoid(outputs1) > 0.5).float()\n",
    "            correct += (preds == labels).sum().item()\n",
    "            total += labels.size(0)\n",
    "\n",
    "    epoch_loss = running_loss / len(dataloader)\n",
    "    accuracy = correct / total * 100\n",
    "    return epoch_loss, accuracy"
   ]
  },
  {
   "cell_type": "markdown",
   "id": "4ca1fa35-cdf5-4ff3-b746-d764778ef913",
   "metadata": {},
   "source": [
    "## Run the Training and Validation Loop"
   ]
  },
  {
   "cell_type": "code",
   "execution_count": null,
   "id": "5f8c2e47-b285-4e4b-ba0c-64a3323d28ec",
   "metadata": {},
   "outputs": [],
   "source": [
    "from tqdm import tqdm\n",
    "\n",
    "num_epochs = 10\n",
    "\n",
    "# Define the directory to save the model checkpoints\n",
    "save_dir = 'Checkpoints_SimCLR_10ep/'\n",
    "os.makedirs(save_dir, exist_ok=True) \n",
    "\n",
    "for epoch in range(num_epochs):\n",
    "    print(f\"Epoch {epoch + 1}/{num_epochs}\")\n",
    "    # Training\n",
    "    train_loss, train_accuracy = train_one_epoch(model, dataloaders['train'], criterion, optimizer)\n",
    "    print(f\"Train Loss: {train_loss:.4f}, Train Accuracy: {train_accuracy:.2f}%\")\n",
    "    # Validation\n",
    "    val_loss, val_accuracy = validate_one_epoch(model, dataloaders['test'], criterion)\n",
    "    print(f\"Validation Loss: {val_loss:.4f}, Validation Accuracy: {val_accuracy:.2f}%\")\n",
    "    # Save the model state after each epoch\n",
    "    model_save_path = os.path.join(save_dir, f'model_epoch_{epoch + 1}.pth')\n",
    "    torch.save(model.state_dict(), model_save_path)"
   ]
  }
 ],
 "metadata": {
  "kernelspec": {
   "display_name": "Python 3 (ipykernel)",
   "language": "python",
   "name": "python3"
  },
  "language_info": {
   "codemirror_mode": {
    "name": "ipython",
    "version": 3
   },
   "file_extension": ".py",
   "mimetype": "text/x-python",
   "name": "python",
   "nbconvert_exporter": "python",
   "pygments_lexer": "ipython3",
   "version": "3.11.7"
  }
 },
 "nbformat": 4,
 "nbformat_minor": 5
}
