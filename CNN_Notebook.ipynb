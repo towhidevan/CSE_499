{
 "cells": [
  {
   "cell_type": "markdown",
   "id": "41af8600-9bf3-4ba6-8a06-8194e3893384",
   "metadata": {},
   "source": [
    "## Dataloader"
   ]
  },
  {
   "cell_type": "code",
   "execution_count": 1,
   "id": "7530a5f6-13e7-49a6-bdaa-c074ff134e07",
   "metadata": {
    "colab": {
     "base_uri": "https://localhost:8080/"
    },
    "id": "7530a5f6-13e7-49a6-bdaa-c074ff134e07",
    "outputId": "c26193d5-1208-422a-f428-8107ba4a36ee"
   },
   "outputs": [],
   "source": [
    "import os\n",
    "from torchvision import datasets, transforms\n",
    "from torch.utils.data import DataLoader\n",
    "\n",
    "def create_train_val_test_dataloaders(data_dir, batch_size, num_workers=4):\n",
    "    # Define specific transformations for each dataset\n",
    "    data_transforms = {\n",
    "        'train': transforms.Compose([\n",
    "            transforms.Resize((244, 244)),\n",
    "            transforms.ToTensor(),\n",
    "            transforms.Normalize(mean=[0.485, 0.456, 0.406], std=[0.229, 0.224, 0.225]),\n",
    "        ]),\n",
    "        'test': transforms.Compose([\n",
    "            transforms.Resize((244, 244)),\n",
    "            transforms.ToTensor(),\n",
    "            transforms.Normalize(mean=[0.485, 0.456, 0.406], std=[0.229, 0.224, 0.225]),\n",
    "        ]),\n",
    "    }\n",
    "\n",
    "    # Create datasets using specific transformations\n",
    "    image_datasets = {\n",
    "        'train': datasets.ImageFolder(os.path.join(data_dir, 'train'), data_transforms['train']),\n",
    "        'test': datasets.ImageFolder(os.path.join(data_dir, 'test'), data_transforms['test'])\n",
    "    }\n",
    "\n",
    "    # Create dataloaders\n",
    "    dataloaders = {\n",
    "        'train': DataLoader(image_datasets['train'], batch_size=batch_size, shuffle=True, num_workers=num_workers),\n",
    "        'test': DataLoader(image_datasets['test'], batch_size=batch_size, shuffle=False, num_workers=num_workers)\n",
    "    }\n",
    "    return dataloaders\n",
    "\n",
    "data_dir = 'Dataset/'\n",
    "batch_size = 32\n",
    "dataloaders = create_train_val_test_dataloaders(data_dir, batch_size)"
   ]
  },
  {
   "cell_type": "code",
   "execution_count": 2,
   "id": "56f5239e-5cf0-423e-a85d-0baa6a39e1df",
   "metadata": {
    "colab": {
     "base_uri": "https://localhost:8080/"
    },
    "id": "56f5239e-5cf0-423e-a85d-0baa6a39e1df",
    "outputId": "8918dd06-5cb7-46c2-df8e-ad31b5f9490f"
   },
   "outputs": [
    {
     "data": {
      "text/plain": [
       "device(type='cuda')"
      ]
     },
     "execution_count": 2,
     "metadata": {},
     "output_type": "execute_result"
    }
   ],
   "source": [
    "import torch\n",
    "# Check if GPU is available and set the device accordingly\n",
    "device = torch.device(\"cuda\" if torch.cuda.is_available() else \"cpu\")\n",
    "device"
   ]
  },
  {
   "cell_type": "markdown",
   "id": "b2511af1-af9a-444c-9ca9-c87fde42cdaa",
   "metadata": {
    "id": "b2511af1-af9a-444c-9ca9-c87fde42cdaa"
   },
   "source": [
    "## Load Models"
   ]
  },
  {
   "cell_type": "code",
   "execution_count": 3,
   "id": "a922e780-d334-4702-a6be-bd296f0d4243",
   "metadata": {
    "id": "a922e780-d334-4702-a6be-bd296f0d4243"
   },
   "outputs": [],
   "source": [
    "import torch\n",
    "import torch.nn as nn\n",
    "import torch.optim as optim\n",
    "from torchvision import models\n",
    "\n",
    "def load_resnet50(num_classes):\n",
    "    model =  models.resnet50(weights='ResNet50_Weights.DEFAULT')\n",
    "    num_features = model.fc.in_features\n",
    "    model.fc = nn.Linear(num_features, num_classes)\n",
    "    return model\n",
    "\n",
    "def load_vgg19(num_classes):\n",
    "    model = models.vgg19(weights='VGG19_Weights.DEFAULT')\n",
    "    num_features = model.classifier[6].in_features\n",
    "    model.classifier[6] = nn.Linear(num_features, num_classes)\n",
    "    return model\n",
    "\n",
    "def load_efficientnet_b0(num_classes):\n",
    "    model = models.efficientnet_b0(weights='EfficientNet_B0_Weights.DEFAULT')\n",
    "    num_features = model.classifier[1].in_features\n",
    "    model.classifier[1] = nn.Linear(num_features, num_classes)\n",
    "    return model\n",
    "\n",
    "def load_mobilenet_v3_large(num_classes):\n",
    "    model = models.mobilenet_v3_large(weights='MobileNet_V3_Large_Weights.DEFAULT')\n",
    "    num_features = model.classifier[3].in_features\n",
    "    model.classifier[3] = nn.Linear(num_features, num_classes)\n",
    "    return model"
   ]
  },
  {
   "cell_type": "markdown",
   "id": "39acfe5e-6b6f-415a-9451-3b0420665d03",
   "metadata": {
    "id": "39acfe5e-6b6f-415a-9451-3b0420665d03"
   },
   "source": [
    "## Training"
   ]
  },
  {
   "cell_type": "code",
   "execution_count": 4,
   "id": "c2878010-e38d-4680-bfe7-9a34883873d2",
   "metadata": {
    "id": "c2878010-e38d-4680-bfe7-9a34883873d2"
   },
   "outputs": [],
   "source": [
    "from tqdm import tqdm\n",
    "import torch\n",
    "import os\n",
    "\n",
    "def train_model(model, dataloaders, criterion, optimizer, num_epochs, save_dir):\n",
    "    # Create directory for saving models if it doesn't exist\n",
    "    os.makedirs(save_dir, exist_ok=True)\n",
    "\n",
    "    train_loader = dataloaders['train']\n",
    "    test_loader = dataloaders['test']\n",
    "\n",
    "    for epoch in range(num_epochs):\n",
    "        # Training phase\n",
    "        model.train()\n",
    "        running_train_loss = 0.0\n",
    "        correct_train = 0\n",
    "        total_train = 0\n",
    "\n",
    "        for inputs, labels in tqdm(train_loader, desc=f'Epoch {epoch+1}/{num_epochs} - Training'):\n",
    "            inputs, labels = inputs.to(device), labels.to(device)\n",
    "\n",
    "            optimizer.zero_grad()\n",
    "\n",
    "            outputs = model(inputs).squeeze()\n",
    "            loss = criterion(outputs, labels.float())\n",
    "            loss.backward()\n",
    "            optimizer.step()\n",
    "\n",
    "            running_train_loss += loss.item() * inputs.size(0)\n",
    "\n",
    "            # Calculate accuracy\n",
    "            predicted = torch.round(torch.sigmoid(outputs))\n",
    "            correct_train += (predicted == labels.float()).sum().item()\n",
    "            total_train += labels.size(0)\n",
    "\n",
    "        train_loss = running_train_loss / len(train_loader.dataset)\n",
    "        train_acc = correct_train / total_train\n",
    "\n",
    "        # Validation phase\n",
    "        model.eval()\n",
    "        running_val_loss = 0.0\n",
    "        correct_val = 0\n",
    "        total_val = 0\n",
    "\n",
    "        with torch.no_grad():\n",
    "            for inputs, labels in tqdm(test_loader, desc=f'Epoch {epoch+1}/{num_epochs} - Validation'):\n",
    "                inputs, labels = inputs.to(device), labels.to(device)\n",
    "\n",
    "                outputs = model(inputs).squeeze()\n",
    "                loss = criterion(outputs, labels.float())\n",
    "\n",
    "                running_val_loss += loss.item() * inputs.size(0)\n",
    "\n",
    "                # Calculate accuracy\n",
    "                predicted = torch.round(torch.sigmoid(outputs))\n",
    "                correct_val += (predicted == labels.float()).sum().item()\n",
    "                total_val += labels.size(0)\n",
    "\n",
    "        val_loss = running_val_loss / len(test_loader.dataset)\n",
    "        val_acc = correct_val / total_val\n",
    "\n",
    "        # Print epoch statistics\n",
    "        print(f'Epoch [{epoch+1}/{num_epochs}] - '\n",
    "              f'Train Loss: {train_loss:.4f}, Train Acc: {train_acc*100:.2f}%, '\n",
    "              f'Val Loss: {val_loss:.4f}, Val Acc: {val_acc*100:.2f}%')\n",
    "\n",
    "        # Save the model after each epoch\n",
    "        torch.save(model.state_dict(), os.path.join(save_dir, f'model_epoch_{epoch+1}.pth'))\n",
    "\n",
    "    print('Training complete.')"
   ]
  },
  {
   "cell_type": "markdown",
   "id": "abfc5960-caed-40a7-95d9-62911d5f78cb",
   "metadata": {},
   "source": [
    "## ResNet50"
   ]
  },
  {
   "cell_type": "code",
   "execution_count": 6,
   "id": "b371ffc8-4427-48ad-99e6-7fbbc6825343",
   "metadata": {
    "colab": {
     "base_uri": "https://localhost:8080/"
    },
    "id": "b371ffc8-4427-48ad-99e6-7fbbc6825343",
    "outputId": "926ca488-4f74-4a6a-a21e-9c5a1a791504"
   },
   "outputs": [
    {
     "name": "stderr",
     "output_type": "stream",
     "text": [
      "Epoch 1/10 - Training: 100%|███████████████████████████████████████████████████████| 3125/3125 [11:27<00:00,  4.55it/s]\n",
      "Epoch 1/10 - Validation: 100%|███████████████████████████████████████████████████████| 625/625 [00:59<00:00, 10.50it/s]\n"
     ]
    },
    {
     "name": "stdout",
     "output_type": "stream",
     "text": [
      "Epoch [1/10] - Train Loss: 0.2017, Train Acc: 92.11%, Val Loss: 0.1483, Val Acc: 94.25%\n"
     ]
    },
    {
     "name": "stderr",
     "output_type": "stream",
     "text": [
      "Epoch 2/10 - Training: 100%|███████████████████████████████████████████████████████| 3125/3125 [11:16<00:00,  4.62it/s]\n",
      "Epoch 2/10 - Validation: 100%|███████████████████████████████████████████████████████| 625/625 [00:57<00:00, 10.96it/s]\n"
     ]
    },
    {
     "name": "stdout",
     "output_type": "stream",
     "text": [
      "Epoch [2/10] - Train Loss: 0.1470, Train Acc: 94.36%, Val Loss: 0.1106, Val Acc: 95.86%\n"
     ]
    },
    {
     "name": "stderr",
     "output_type": "stream",
     "text": [
      "Epoch 3/10 - Training: 100%|███████████████████████████████████████████████████████| 3125/3125 [11:02<00:00,  4.72it/s]\n",
      "Epoch 3/10 - Validation: 100%|███████████████████████████████████████████████████████| 625/625 [00:57<00:00, 10.85it/s]\n"
     ]
    },
    {
     "name": "stdout",
     "output_type": "stream",
     "text": [
      "Epoch [3/10] - Train Loss: 0.1246, Train Acc: 95.30%, Val Loss: 0.1469, Val Acc: 94.54%\n"
     ]
    },
    {
     "name": "stderr",
     "output_type": "stream",
     "text": [
      "Epoch 4/10 - Training: 100%|███████████████████████████████████████████████████████| 3125/3125 [11:02<00:00,  4.72it/s]\n",
      "Epoch 4/10 - Validation: 100%|███████████████████████████████████████████████████████| 625/625 [00:56<00:00, 11.02it/s]\n"
     ]
    },
    {
     "name": "stdout",
     "output_type": "stream",
     "text": [
      "Epoch [4/10] - Train Loss: 0.1056, Train Acc: 95.97%, Val Loss: 0.1014, Val Acc: 96.31%\n"
     ]
    },
    {
     "name": "stderr",
     "output_type": "stream",
     "text": [
      "Epoch 5/10 - Training: 100%|███████████████████████████████████████████████████████| 3125/3125 [11:01<00:00,  4.72it/s]\n",
      "Epoch 5/10 - Validation: 100%|███████████████████████████████████████████████████████| 625/625 [00:58<00:00, 10.72it/s]\n"
     ]
    },
    {
     "name": "stdout",
     "output_type": "stream",
     "text": [
      "Epoch [5/10] - Train Loss: 0.0920, Train Acc: 96.51%, Val Loss: 0.0915, Val Acc: 96.50%\n"
     ]
    },
    {
     "name": "stderr",
     "output_type": "stream",
     "text": [
      "Epoch 6/10 - Training: 100%|███████████████████████████████████████████████████████| 3125/3125 [11:15<00:00,  4.62it/s]\n",
      "Epoch 6/10 - Validation: 100%|███████████████████████████████████████████████████████| 625/625 [00:59<00:00, 10.52it/s]\n"
     ]
    },
    {
     "name": "stdout",
     "output_type": "stream",
     "text": [
      "Epoch [6/10] - Train Loss: 0.0810, Train Acc: 96.94%, Val Loss: 0.0887, Val Acc: 96.67%\n"
     ]
    },
    {
     "name": "stderr",
     "output_type": "stream",
     "text": [
      "Epoch 7/10 - Training: 100%|███████████████████████████████████████████████████████| 3125/3125 [11:27<00:00,  4.55it/s]\n",
      "Epoch 7/10 - Validation: 100%|███████████████████████████████████████████████████████| 625/625 [00:58<00:00, 10.68it/s]\n"
     ]
    },
    {
     "name": "stdout",
     "output_type": "stream",
     "text": [
      "Epoch [7/10] - Train Loss: 0.0698, Train Acc: 97.36%, Val Loss: 0.0955, Val Acc: 96.45%\n"
     ]
    },
    {
     "name": "stderr",
     "output_type": "stream",
     "text": [
      "Epoch 8/10 - Training: 100%|███████████████████████████████████████████████████████| 3125/3125 [11:24<00:00,  4.56it/s]\n",
      "Epoch 8/10 - Validation: 100%|███████████████████████████████████████████████████████| 625/625 [00:58<00:00, 10.66it/s]\n"
     ]
    },
    {
     "name": "stdout",
     "output_type": "stream",
     "text": [
      "Epoch [8/10] - Train Loss: 0.0612, Train Acc: 97.72%, Val Loss: 0.0812, Val Acc: 97.05%\n"
     ]
    },
    {
     "name": "stderr",
     "output_type": "stream",
     "text": [
      "Epoch 9/10 - Training: 100%|███████████████████████████████████████████████████████| 3125/3125 [11:24<00:00,  4.56it/s]\n",
      "Epoch 9/10 - Validation: 100%|███████████████████████████████████████████████████████| 625/625 [00:59<00:00, 10.47it/s]\n"
     ]
    },
    {
     "name": "stdout",
     "output_type": "stream",
     "text": [
      "Epoch [9/10] - Train Loss: 0.0513, Train Acc: 98.05%, Val Loss: 0.0954, Val Acc: 96.83%\n"
     ]
    },
    {
     "name": "stderr",
     "output_type": "stream",
     "text": [
      "Epoch 10/10 - Training: 100%|██████████████████████████████████████████████████████| 3125/3125 [11:09<00:00,  4.66it/s]\n",
      "Epoch 10/10 - Validation: 100%|██████████████████████████████████████████████████████| 625/625 [00:57<00:00, 10.82it/s]\n"
     ]
    },
    {
     "name": "stdout",
     "output_type": "stream",
     "text": [
      "Epoch [10/10] - Train Loss: 0.0443, Train Acc: 98.33%, Val Loss: 0.0848, Val Acc: 96.95%\n",
      "Training complete.\n"
     ]
    }
   ],
   "source": [
    "model = load_resnet50(num_classes=1).to(device)\n",
    "criterion = nn.BCEWithLogitsLoss()\n",
    "optimizer = optim.Adam(model.parameters(), lr=0.001)\n",
    "train_model(model, dataloaders, criterion, optimizer, num_epochs=10, save_dir='Checkpoints/resnet50')"
   ]
  },
  {
   "cell_type": "markdown",
   "id": "9ff6148b-f304-4acb-a2c5-044a1ab9a168",
   "metadata": {},
   "source": [
    "## EfficientNet"
   ]
  },
  {
   "cell_type": "code",
   "execution_count": 7,
   "id": "f05a9e53-e7e1-44c5-9742-623e2d494937",
   "metadata": {},
   "outputs": [
    {
     "name": "stderr",
     "output_type": "stream",
     "text": [
      "Epoch 1/10 - Training: 100%|███████████████████████████████████████████████████████| 3125/3125 [06:34<00:00,  7.92it/s]\n",
      "Epoch 1/10 - Validation: 100%|███████████████████████████████████████████████████████| 625/625 [00:34<00:00, 18.13it/s]\n"
     ]
    },
    {
     "name": "stdout",
     "output_type": "stream",
     "text": [
      "Epoch [1/10] - Train Loss: 0.1486, Train Acc: 94.28%, Val Loss: 0.1016, Val Acc: 96.47%\n"
     ]
    },
    {
     "name": "stderr",
     "output_type": "stream",
     "text": [
      "Epoch 2/10 - Training: 100%|███████████████████████████████████████████████████████| 3125/3125 [06:47<00:00,  7.67it/s]\n",
      "Epoch 2/10 - Validation: 100%|███████████████████████████████████████████████████████| 625/625 [00:35<00:00, 17.81it/s]\n"
     ]
    },
    {
     "name": "stdout",
     "output_type": "stream",
     "text": [
      "Epoch [2/10] - Train Loss: 0.0989, Train Acc: 96.26%, Val Loss: 0.0767, Val Acc: 97.18%\n"
     ]
    },
    {
     "name": "stderr",
     "output_type": "stream",
     "text": [
      "Epoch 3/10 - Training: 100%|███████████████████████████████████████████████████████| 3125/3125 [06:34<00:00,  7.92it/s]\n",
      "Epoch 3/10 - Validation: 100%|███████████████████████████████████████████████████████| 625/625 [00:34<00:00, 18.06it/s]\n"
     ]
    },
    {
     "name": "stdout",
     "output_type": "stream",
     "text": [
      "Epoch [3/10] - Train Loss: 0.0812, Train Acc: 96.93%, Val Loss: 0.0875, Val Acc: 96.89%\n"
     ]
    },
    {
     "name": "stderr",
     "output_type": "stream",
     "text": [
      "Epoch 4/10 - Training: 100%|███████████████████████████████████████████████████████| 3125/3125 [06:32<00:00,  7.95it/s]\n",
      "Epoch 4/10 - Validation: 100%|███████████████████████████████████████████████████████| 625/625 [00:35<00:00, 17.85it/s]\n"
     ]
    },
    {
     "name": "stdout",
     "output_type": "stream",
     "text": [
      "Epoch [4/10] - Train Loss: 0.0674, Train Acc: 97.46%, Val Loss: 0.1033, Val Acc: 96.14%\n"
     ]
    },
    {
     "name": "stderr",
     "output_type": "stream",
     "text": [
      "Epoch 5/10 - Training: 100%|███████████████████████████████████████████████████████| 3125/3125 [06:33<00:00,  7.94it/s]\n",
      "Epoch 5/10 - Validation: 100%|███████████████████████████████████████████████████████| 625/625 [00:34<00:00, 17.98it/s]\n"
     ]
    },
    {
     "name": "stdout",
     "output_type": "stream",
     "text": [
      "Epoch [5/10] - Train Loss: 0.0574, Train Acc: 97.84%, Val Loss: 0.0638, Val Acc: 97.70%\n"
     ]
    },
    {
     "name": "stderr",
     "output_type": "stream",
     "text": [
      "Epoch 6/10 - Training: 100%|███████████████████████████████████████████████████████| 3125/3125 [06:34<00:00,  7.92it/s]\n",
      "Epoch 6/10 - Validation: 100%|███████████████████████████████████████████████████████| 625/625 [00:34<00:00, 18.03it/s]\n"
     ]
    },
    {
     "name": "stdout",
     "output_type": "stream",
     "text": [
      "Epoch [6/10] - Train Loss: 0.0502, Train Acc: 98.04%, Val Loss: 0.0627, Val Acc: 97.59%\n"
     ]
    },
    {
     "name": "stderr",
     "output_type": "stream",
     "text": [
      "Epoch 7/10 - Training: 100%|███████████████████████████████████████████████████████| 3125/3125 [06:33<00:00,  7.94it/s]\n",
      "Epoch 7/10 - Validation: 100%|███████████████████████████████████████████████████████| 625/625 [00:34<00:00, 17.95it/s]\n"
     ]
    },
    {
     "name": "stdout",
     "output_type": "stream",
     "text": [
      "Epoch [7/10] - Train Loss: 0.0438, Train Acc: 98.36%, Val Loss: 0.0573, Val Acc: 98.04%\n"
     ]
    },
    {
     "name": "stderr",
     "output_type": "stream",
     "text": [
      "Epoch 8/10 - Training: 100%|███████████████████████████████████████████████████████| 3125/3125 [06:34<00:00,  7.92it/s]\n",
      "Epoch 8/10 - Validation: 100%|███████████████████████████████████████████████████████| 625/625 [00:35<00:00, 17.65it/s]\n"
     ]
    },
    {
     "name": "stdout",
     "output_type": "stream",
     "text": [
      "Epoch [8/10] - Train Loss: 0.0384, Train Acc: 98.61%, Val Loss: 0.0671, Val Acc: 97.81%\n"
     ]
    },
    {
     "name": "stderr",
     "output_type": "stream",
     "text": [
      "Epoch 9/10 - Training: 100%|███████████████████████████████████████████████████████| 3125/3125 [06:32<00:00,  7.96it/s]\n",
      "Epoch 9/10 - Validation: 100%|███████████████████████████████████████████████████████| 625/625 [00:34<00:00, 18.04it/s]\n"
     ]
    },
    {
     "name": "stdout",
     "output_type": "stream",
     "text": [
      "Epoch [9/10] - Train Loss: 0.0346, Train Acc: 98.72%, Val Loss: 0.0760, Val Acc: 97.41%\n"
     ]
    },
    {
     "name": "stderr",
     "output_type": "stream",
     "text": [
      "Epoch 10/10 - Training: 100%|██████████████████████████████████████████████████████| 3125/3125 [06:34<00:00,  7.92it/s]\n",
      "Epoch 10/10 - Validation: 100%|██████████████████████████████████████████████████████| 625/625 [00:34<00:00, 17.93it/s]"
     ]
    },
    {
     "name": "stdout",
     "output_type": "stream",
     "text": [
      "Epoch [10/10] - Train Loss: 0.0315, Train Acc: 98.84%, Val Loss: 0.0732, Val Acc: 97.40%\n",
      "Training complete.\n"
     ]
    },
    {
     "name": "stderr",
     "output_type": "stream",
     "text": [
      "\n"
     ]
    }
   ],
   "source": [
    "model = load_efficientnet_b0(num_classes=1).to(device)\n",
    "criterion = nn.BCEWithLogitsLoss()\n",
    "optimizer = optim.Adam(model.parameters(), lr=0.001)\n",
    "train_model(model, dataloaders, criterion, optimizer, num_epochs=10, save_dir='Checkpoints/efficientnet')"
   ]
  },
  {
   "cell_type": "markdown",
   "id": "76055b74-eb08-4d20-874a-78b9043153d3",
   "metadata": {},
   "source": [
    "## Vgg19"
   ]
  },
  {
   "cell_type": "code",
   "execution_count": 5,
   "id": "c33c7aa6-65d4-40b6-91cc-04e2fd2ad69a",
   "metadata": {},
   "outputs": [
    {
     "name": "stderr",
     "output_type": "stream",
     "text": [
      "Epoch 1/10 - Training: 100%|███████████████████████████████████████████████████████| 3125/3125 [22:26<00:00,  2.32it/s]\n",
      "Epoch 1/10 - Validation: 100%|███████████████████████████████████████████████████████| 625/625 [01:37<00:00,  6.42it/s]\n"
     ]
    },
    {
     "name": "stdout",
     "output_type": "stream",
     "text": [
      "Epoch [1/10] - Train Loss: 0.7030, Train Acc: 50.16%, Val Loss: 0.6935, Val Acc: 50.00%\n"
     ]
    },
    {
     "name": "stderr",
     "output_type": "stream",
     "text": [
      "Epoch 2/10 - Training: 100%|███████████████████████████████████████████████████████| 3125/3125 [22:39<00:00,  2.30it/s]\n",
      "Epoch 2/10 - Validation: 100%|███████████████████████████████████████████████████████| 625/625 [01:37<00:00,  6.39it/s]\n"
     ]
    },
    {
     "name": "stdout",
     "output_type": "stream",
     "text": [
      "Epoch [2/10] - Train Loss: 0.6937, Train Acc: 49.98%, Val Loss: 0.6933, Val Acc: 50.00%\n"
     ]
    },
    {
     "name": "stderr",
     "output_type": "stream",
     "text": [
      "Epoch 3/10 - Training: 100%|███████████████████████████████████████████████████████| 3125/3125 [22:39<00:00,  2.30it/s]\n",
      "Epoch 3/10 - Validation: 100%|███████████████████████████████████████████████████████| 625/625 [01:39<00:00,  6.31it/s]\n"
     ]
    },
    {
     "name": "stdout",
     "output_type": "stream",
     "text": [
      "Epoch [3/10] - Train Loss: 0.6936, Train Acc: 49.52%, Val Loss: 0.6935, Val Acc: 50.00%\n"
     ]
    },
    {
     "name": "stderr",
     "output_type": "stream",
     "text": [
      "Epoch 4/10 - Training: 100%|███████████████████████████████████████████████████████| 3125/3125 [22:31<00:00,  2.31it/s]\n",
      "Epoch 4/10 - Validation: 100%|███████████████████████████████████████████████████████| 625/625 [01:37<00:00,  6.43it/s]\n"
     ]
    },
    {
     "name": "stdout",
     "output_type": "stream",
     "text": [
      "Epoch [4/10] - Train Loss: 0.6933, Train Acc: 49.77%, Val Loss: 0.6932, Val Acc: 50.00%\n"
     ]
    },
    {
     "name": "stderr",
     "output_type": "stream",
     "text": [
      "Epoch 5/10 - Training: 100%|███████████████████████████████████████████████████████| 3125/3125 [22:26<00:00,  2.32it/s]\n",
      "Epoch 5/10 - Validation: 100%|███████████████████████████████████████████████████████| 625/625 [01:37<00:00,  6.41it/s]\n"
     ]
    },
    {
     "name": "stdout",
     "output_type": "stream",
     "text": [
      "Epoch [5/10] - Train Loss: 0.6933, Train Acc: 49.89%, Val Loss: 0.6931, Val Acc: 50.00%\n"
     ]
    },
    {
     "name": "stderr",
     "output_type": "stream",
     "text": [
      "Epoch 6/10 - Training: 100%|███████████████████████████████████████████████████████| 3125/3125 [22:26<00:00,  2.32it/s]\n",
      "Epoch 6/10 - Validation: 100%|███████████████████████████████████████████████████████| 625/625 [01:37<00:00,  6.43it/s]\n"
     ]
    },
    {
     "name": "stdout",
     "output_type": "stream",
     "text": [
      "Epoch [6/10] - Train Loss: 0.6932, Train Acc: 50.10%, Val Loss: 0.6931, Val Acc: 50.00%\n"
     ]
    },
    {
     "name": "stderr",
     "output_type": "stream",
     "text": [
      "Epoch 7/10 - Training: 100%|███████████████████████████████████████████████████████| 3125/3125 [22:27<00:00,  2.32it/s]\n",
      "Epoch 7/10 - Validation: 100%|███████████████████████████████████████████████████████| 625/625 [01:37<00:00,  6.42it/s]\n"
     ]
    },
    {
     "name": "stdout",
     "output_type": "stream",
     "text": [
      "Epoch [7/10] - Train Loss: 0.6932, Train Acc: 49.70%, Val Loss: 0.6932, Val Acc: 50.00%\n"
     ]
    },
    {
     "name": "stderr",
     "output_type": "stream",
     "text": [
      "Epoch 8/10 - Training: 100%|███████████████████████████████████████████████████████| 3125/3125 [22:28<00:00,  2.32it/s]\n",
      "Epoch 8/10 - Validation: 100%|███████████████████████████████████████████████████████| 625/625 [01:37<00:00,  6.42it/s]\n"
     ]
    },
    {
     "name": "stdout",
     "output_type": "stream",
     "text": [
      "Epoch [8/10] - Train Loss: 0.6932, Train Acc: 49.48%, Val Loss: 0.6932, Val Acc: 50.00%\n"
     ]
    },
    {
     "name": "stderr",
     "output_type": "stream",
     "text": [
      "Epoch 9/10 - Training: 100%|███████████████████████████████████████████████████████| 3125/3125 [22:27<00:00,  2.32it/s]\n",
      "Epoch 9/10 - Validation: 100%|███████████████████████████████████████████████████████| 625/625 [01:36<00:00,  6.44it/s]\n"
     ]
    },
    {
     "name": "stdout",
     "output_type": "stream",
     "text": [
      "Epoch [9/10] - Train Loss: 0.6932, Train Acc: 50.04%, Val Loss: 0.6931, Val Acc: 50.00%\n"
     ]
    },
    {
     "name": "stderr",
     "output_type": "stream",
     "text": [
      "Epoch 10/10 - Training: 100%|██████████████████████████████████████████████████████| 3125/3125 [22:27<00:00,  2.32it/s]\n",
      "Epoch 10/10 - Validation: 100%|██████████████████████████████████████████████████████| 625/625 [01:37<00:00,  6.42it/s]\n"
     ]
    },
    {
     "name": "stdout",
     "output_type": "stream",
     "text": [
      "Epoch [10/10] - Train Loss: 0.6932, Train Acc: 49.93%, Val Loss: 0.6932, Val Acc: 50.00%\n",
      "Training complete.\n"
     ]
    }
   ],
   "source": [
    "model = load_vgg19(num_classes=1).to(device)\n",
    "criterion = nn.BCEWithLogitsLoss()\n",
    "optimizer = optim.Adam(model.parameters(), lr=0.001)\n",
    "train_model(model, dataloaders, criterion, optimizer, num_epochs=10, save_dir='Checkpoints/vgg19')"
   ]
  },
  {
   "cell_type": "markdown",
   "id": "c6855d90-f7ce-40b6-a8a3-1a52a166dd68",
   "metadata": {},
   "source": [
    "## Mobilenet_v3_large"
   ]
  },
  {
   "cell_type": "code",
   "execution_count": 6,
   "id": "5b4ccd09-f2b8-477b-9bf5-f7a871361ac4",
   "metadata": {},
   "outputs": [
    {
     "name": "stderr",
     "output_type": "stream",
     "text": [
      "Epoch 1/10 - Training: 100%|███████████████████████████████████████████████████████| 3125/3125 [03:47<00:00, 13.72it/s]\n",
      "Epoch 1/10 - Validation: 100%|███████████████████████████████████████████████████████| 625/625 [00:27<00:00, 23.08it/s]\n"
     ]
    },
    {
     "name": "stdout",
     "output_type": "stream",
     "text": [
      "Epoch [1/10] - Train Loss: 0.1522, Train Acc: 94.21%, Val Loss: 0.1749, Val Acc: 93.34%\n"
     ]
    },
    {
     "name": "stderr",
     "output_type": "stream",
     "text": [
      "Epoch 2/10 - Training: 100%|███████████████████████████████████████████████████████| 3125/3125 [03:46<00:00, 13.77it/s]\n",
      "Epoch 2/10 - Validation: 100%|███████████████████████████████████████████████████████| 625/625 [00:27<00:00, 22.77it/s]\n"
     ]
    },
    {
     "name": "stdout",
     "output_type": "stream",
     "text": [
      "Epoch [2/10] - Train Loss: 0.1030, Train Acc: 96.09%, Val Loss: 0.1044, Val Acc: 96.28%\n"
     ]
    },
    {
     "name": "stderr",
     "output_type": "stream",
     "text": [
      "Epoch 3/10 - Training: 100%|███████████████████████████████████████████████████████| 3125/3125 [03:47<00:00, 13.74it/s]\n",
      "Epoch 3/10 - Validation: 100%|███████████████████████████████████████████████████████| 625/625 [00:27<00:00, 22.97it/s]\n"
     ]
    },
    {
     "name": "stdout",
     "output_type": "stream",
     "text": [
      "Epoch [3/10] - Train Loss: 0.0941, Train Acc: 96.48%, Val Loss: 0.0837, Val Acc: 96.95%\n"
     ]
    },
    {
     "name": "stderr",
     "output_type": "stream",
     "text": [
      "Epoch 4/10 - Training: 100%|███████████████████████████████████████████████████████| 3125/3125 [03:47<00:00, 13.75it/s]\n",
      "Epoch 4/10 - Validation: 100%|███████████████████████████████████████████████████████| 625/625 [00:27<00:00, 22.96it/s]\n"
     ]
    },
    {
     "name": "stdout",
     "output_type": "stream",
     "text": [
      "Epoch [4/10] - Train Loss: 0.0731, Train Acc: 97.32%, Val Loss: 0.1129, Val Acc: 95.76%\n"
     ]
    },
    {
     "name": "stderr",
     "output_type": "stream",
     "text": [
      "Epoch 5/10 - Training: 100%|███████████████████████████████████████████████████████| 3125/3125 [03:47<00:00, 13.75it/s]\n",
      "Epoch 5/10 - Validation: 100%|███████████████████████████████████████████████████████| 625/625 [00:27<00:00, 22.82it/s]\n"
     ]
    },
    {
     "name": "stdout",
     "output_type": "stream",
     "text": [
      "Epoch [5/10] - Train Loss: 0.0630, Train Acc: 97.65%, Val Loss: 0.0831, Val Acc: 97.09%\n"
     ]
    },
    {
     "name": "stderr",
     "output_type": "stream",
     "text": [
      "Epoch 6/10 - Training: 100%|███████████████████████████████████████████████████████| 3125/3125 [03:47<00:00, 13.76it/s]\n",
      "Epoch 6/10 - Validation: 100%|███████████████████████████████████████████████████████| 625/625 [00:27<00:00, 22.98it/s]\n"
     ]
    },
    {
     "name": "stdout",
     "output_type": "stream",
     "text": [
      "Epoch [6/10] - Train Loss: 0.0567, Train Acc: 97.90%, Val Loss: 0.0823, Val Acc: 97.01%\n"
     ]
    },
    {
     "name": "stderr",
     "output_type": "stream",
     "text": [
      "Epoch 7/10 - Training: 100%|███████████████████████████████████████████████████████| 3125/3125 [03:47<00:00, 13.72it/s]\n",
      "Epoch 7/10 - Validation: 100%|███████████████████████████████████████████████████████| 625/625 [00:27<00:00, 22.93it/s]\n"
     ]
    },
    {
     "name": "stdout",
     "output_type": "stream",
     "text": [
      "Epoch [7/10] - Train Loss: 0.0493, Train Acc: 98.15%, Val Loss: 0.0697, Val Acc: 97.54%\n"
     ]
    },
    {
     "name": "stderr",
     "output_type": "stream",
     "text": [
      "Epoch 8/10 - Training: 100%|███████████████████████████████████████████████████████| 3125/3125 [03:46<00:00, 13.77it/s]\n",
      "Epoch 8/10 - Validation: 100%|███████████████████████████████████████████████████████| 625/625 [00:27<00:00, 22.91it/s]\n"
     ]
    },
    {
     "name": "stdout",
     "output_type": "stream",
     "text": [
      "Epoch [8/10] - Train Loss: 0.0426, Train Acc: 98.41%, Val Loss: 0.0667, Val Acc: 97.58%\n"
     ]
    },
    {
     "name": "stderr",
     "output_type": "stream",
     "text": [
      "Epoch 9/10 - Training: 100%|███████████████████████████████████████████████████████| 3125/3125 [03:47<00:00, 13.73it/s]\n",
      "Epoch 9/10 - Validation: 100%|███████████████████████████████████████████████████████| 625/625 [00:27<00:00, 22.61it/s]\n"
     ]
    },
    {
     "name": "stdout",
     "output_type": "stream",
     "text": [
      "Epoch [9/10] - Train Loss: 0.0388, Train Acc: 98.58%, Val Loss: 0.0700, Val Acc: 97.89%\n"
     ]
    },
    {
     "name": "stderr",
     "output_type": "stream",
     "text": [
      "Epoch 10/10 - Training: 100%|██████████████████████████████████████████████████████| 3125/3125 [03:46<00:00, 13.77it/s]\n",
      "Epoch 10/10 - Validation: 100%|██████████████████████████████████████████████████████| 625/625 [00:27<00:00, 22.84it/s]"
     ]
    },
    {
     "name": "stdout",
     "output_type": "stream",
     "text": [
      "Epoch [10/10] - Train Loss: 0.0356, Train Acc: 98.67%, Val Loss: 0.0705, Val Acc: 97.36%\n",
      "Training complete.\n"
     ]
    },
    {
     "name": "stderr",
     "output_type": "stream",
     "text": [
      "\n"
     ]
    }
   ],
   "source": [
    "model = load_mobilenet_v3_large(num_classes=1).to(device)\n",
    "criterion = nn.BCEWithLogitsLoss()\n",
    "optimizer = optim.Adam(model.parameters(), lr=0.001)\n",
    "train_model(model, dataloaders, criterion, optimizer, num_epochs=10, save_dir='Checkpoints/mobilenet_v3_large')"
   ]
  },
  {
   "cell_type": "markdown",
   "id": "eec410f7-6f81-4938-a1e9-cdaf808248d8",
   "metadata": {},
   "source": [
    "## Testing"
   ]
  },
  {
   "cell_type": "code",
   "execution_count": 7,
   "id": "37e9983d-7b51-4cc1-b907-5bfc824d4e79",
   "metadata": {},
   "outputs": [],
   "source": [
    "# code to save the figures as high-res PNGs\n",
    "import os\n",
    "from pathlib import Path\n",
    "from matplotlib import pyplot as plt\n",
    "\n",
    "IMAGES_PATH = Path() / \"Images/\"\n",
    "IMAGES_PATH.mkdir(parents=True, exist_ok=True)\n",
    "\n",
    "def save_fig(fig_id, tight_layout=True, fig_extension=\"png\", resolution=300):\n",
    "    path = IMAGES_PATH / f\"{fig_id}.{fig_extension}\"\n",
    "    if tight_layout:\n",
    "        plt.tight_layout()\n",
    "    plt.savefig(path, format=fig_extension, dpi=resolution)"
   ]
  },
  {
   "cell_type": "code",
   "execution_count": 8,
   "id": "36a43701-a9fc-4596-8613-25dc5d8fddb9",
   "metadata": {},
   "outputs": [
    {
     "name": "stdout",
     "output_type": "stream",
     "text": [
      "Class to index mapping: {'FAKE': 0, 'REAL': 1}\n"
     ]
    }
   ],
   "source": [
    "import os\n",
    "from torchvision import datasets, transforms\n",
    "from torch.utils.data import DataLoader\n",
    "\n",
    "def create_test_dataloader(data_dir, batch_size, num_workers=4):\n",
    "    # Define transformations for the test dataset\n",
    "    data_transform = transforms.Compose([\n",
    "        transforms.Resize((244, 244)),\n",
    "        transforms.ToTensor(),\n",
    "        transforms.Normalize(mean=[0.485, 0.456, 0.406], std=[0.229, 0.224, 0.225]),\n",
    "    ])\n",
    "\n",
    "    # Create the test dataset\n",
    "    test_dataset = datasets.ImageFolder(os.path.join(data_dir, 'test'), transform=data_transform)\n",
    "\n",
    "    # Print the class-to-index mapping\n",
    "    print(\"Class to index mapping:\", test_dataset.class_to_idx)\n",
    "    \n",
    "    # Create the test dataloader\n",
    "    test_loader = DataLoader(test_dataset, batch_size=batch_size, shuffle=False, num_workers=num_workers)\n",
    "\n",
    "    return test_loader\n",
    "\n",
    "data_dir = 'Dataset/'\n",
    "batch_size = 32\n",
    "test_loader = create_test_dataloader(data_dir, batch_size)"
   ]
  },
  {
   "cell_type": "code",
   "execution_count": 9,
   "id": "4827a063-0669-4e72-a09c-d2141edce8f7",
   "metadata": {},
   "outputs": [],
   "source": [
    "from torch import nn\n",
    "from torchvision import models\n",
    "from tqdm import tqdm\n",
    "\n",
    "# Function to load the model\n",
    "def load_model(model_class, checkpoint_path, num_classes):\n",
    "    model = model_class(num_classes=num_classes)\n",
    "    model.load_state_dict(torch.load(checkpoint_path, map_location=device))\n",
    "    model.eval()\n",
    "    return model"
   ]
  },
  {
   "cell_type": "code",
   "execution_count": 10,
   "id": "56efd84e-cfd0-4d8d-a62d-c5a50cb40111",
   "metadata": {},
   "outputs": [],
   "source": [
    "import torch\n",
    "from tqdm import tqdm\n",
    "from sklearn.metrics import classification_report, confusion_matrix\n",
    "import scikitplot as skplt\n",
    "\n",
    "def evaluate_model(model_name, model, test_loader, criterion):\n",
    "    model.eval()\n",
    "    test_loss = 0.0\n",
    "    correct = 0\n",
    "    total = 0\n",
    "    all_labels = []\n",
    "    all_predictions = []\n",
    "\n",
    "    with torch.no_grad():\n",
    "        for inputs, labels in tqdm(test_loader, desc='Testing'):\n",
    "            inputs, labels = inputs.to(device), labels.to(device)\n",
    "\n",
    "            outputs = model(inputs).squeeze()\n",
    "            loss = criterion(outputs, labels.float())\n",
    "\n",
    "            test_loss += loss.item() * inputs.size(0)\n",
    "\n",
    "            # Calculate accuracy\n",
    "            predicted = torch.round(torch.sigmoid(outputs))\n",
    "            correct += (predicted == labels.float()).sum().item()\n",
    "            total += labels.size(0)\n",
    "\n",
    "            # Collect all labels and predictions\n",
    "            all_labels.extend(labels.cpu().numpy())\n",
    "            all_predictions.extend(predicted.cpu().numpy())\n",
    "\n",
    "    test_loss = test_loss / len(test_loader.dataset)\n",
    "    test_acc = correct / total\n",
    "\n",
    "    print(f'Test Loss: {test_loss:.4f}, Test Accuracy: {test_acc*100:.2f}%')\n",
    "\n",
    "    # Generate classification report and confusion matrix\n",
    "    print(\"\\nClassification Report:\")\n",
    "    print(classification_report(all_labels, all_predictions, target_names=['FAKE', 'REAL']))\n",
    "\n",
    "    # Confusion Matrix:\n",
    "    skplt.metrics.plot_confusion_matrix(all_labels, all_predictions)\n",
    "    save_fig(f\"{model_name}_CM\")"
   ]
  },
  {
   "cell_type": "code",
   "execution_count": 12,
   "id": "8114f115-398a-42cd-8fb3-1fe064035b4b",
   "metadata": {},
   "outputs": [],
   "source": [
    "# List of model loading functions\n",
    "model_functions = [\n",
    "    load_resnet50,\n",
    "    load_efficientnet_b0,\n",
    "]\n",
    "\n",
    "checkpoint_paths = [\n",
    "    'Checkpoints/resnet50/model_epoch_8.pth',\n",
    "    'Checkpoints/efficientnet/model_epoch_7.pth',\n",
    "]\n",
    "\n",
    "model_names = [\n",
    "    'resnet50',\n",
    "    'efficientnet'\n",
    "]"
   ]
  },
  {
   "cell_type": "code",
   "execution_count": 13,
   "id": "b9d1dbdc-83d1-4117-9430-42670cb14af8",
   "metadata": {},
   "outputs": [
    {
     "name": "stdout",
     "output_type": "stream",
     "text": [
      "Checkpoints/resnet50/model_epoch_8.pth\n"
     ]
    },
    {
     "name": "stderr",
     "output_type": "stream",
     "text": [
      "Testing: 100%|███████████████████████████████████████████████████████████████████████| 625/625 [00:58<00:00, 10.73it/s]\n"
     ]
    },
    {
     "name": "stdout",
     "output_type": "stream",
     "text": [
      "Test Loss: 0.0812, Test Accuracy: 97.05%\n",
      "\n",
      "Classification Report:\n",
      "              precision    recall  f1-score   support\n",
      "\n",
      "        FAKE       0.97      0.97      0.97     10000\n",
      "        REAL       0.97      0.97      0.97     10000\n",
      "\n",
      "    accuracy                           0.97     20000\n",
      "   macro avg       0.97      0.97      0.97     20000\n",
      "weighted avg       0.97      0.97      0.97     20000\n",
      "\n",
      "Checkpoints/efficientnet/model_epoch_7.pth\n"
     ]
    },
    {
     "name": "stderr",
     "output_type": "stream",
     "text": [
      "Testing: 100%|███████████████████████████████████████████████████████████████████████| 625/625 [00:35<00:00, 17.82it/s]\n"
     ]
    },
    {
     "name": "stdout",
     "output_type": "stream",
     "text": [
      "Test Loss: 0.0573, Test Accuracy: 98.04%\n",
      "\n",
      "Classification Report:\n",
      "              precision    recall  f1-score   support\n",
      "\n",
      "        FAKE       0.98      0.98      0.98     10000\n",
      "        REAL       0.98      0.98      0.98     10000\n",
      "\n",
      "    accuracy                           0.98     20000\n",
      "   macro avg       0.98      0.98      0.98     20000\n",
      "weighted avg       0.98      0.98      0.98     20000\n",
      "\n"
     ]
    },
    {
     "data": {
      "image/png": "[encoded data removed]",
      "text/plain": [
       "<Figure size 640x480 with 2 Axes>"
      ]
     },
     "metadata": {},
     "output_type": "display_data"
    },
    {
     "data": {
      "image/png": "[encoded data removed]",
      "text/plain": [
       "<Figure size 640x480 with 2 Axes>"
      ]
     },
     "metadata": {},
     "output_type": "display_data"
    }
   ],
   "source": [
    "num_classes = 1\n",
    "loss_fn = nn.BCEWithLogitsLoss()\n",
    "\n",
    "for get_model, checkpoint_path, model_name in zip(model_functions, checkpoint_paths, model_names):\n",
    "    # Load the model using the function\n",
    "    loaded_model = load_model(get_model, checkpoint_path, num_classes)\n",
    "    loaded_model = loaded_model.to(device)\n",
    "    # Evaluate the loaded model on the test set\n",
    "    print(checkpoint_path)\n",
    "    evaluate_model(model_name, loaded_model, test_loader, loss_fn)"
   ]
  }
 ],
 "metadata": {
  "accelerator": "GPU",
  "colab": {
   "gpuType": "T4",
   "provenance": []
  },
  "kernelspec": {
   "display_name": "Python 3 (ipykernel)",
   "language": "python",
   "name": "python3"
  },
  "language_info": {
   "codemirror_mode": {
    "name": "ipython",
    "version": 3
   },
   "file_extension": ".py",
   "mimetype": "text/x-python",
   "name": "python",
   "nbconvert_exporter": "python",
   "pygments_lexer": "ipython3",
   "version": "3.11.7"
  }
 },
 "nbformat": 4,
 "nbformat_minor": 5
}
