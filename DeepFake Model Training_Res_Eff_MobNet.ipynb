{
 "cells": [
  {
   "cell_type": "markdown",
   "id": "41af8600-9bf3-4ba6-8a06-8194e3893384",
   "metadata": {},
   "source": [
    "## Dataloader"
   ]
  },
  {
   "cell_type": "code",
   "execution_count": 1,
   "id": "7530a5f6-13e7-49a6-bdaa-c074ff134e07",
   "metadata": {
    "colab": {
     "base_uri": "https://localhost:8080/"
    },
    "id": "7530a5f6-13e7-49a6-bdaa-c074ff134e07",
    "outputId": "c26193d5-1208-422a-f428-8107ba4a36ee"
   },
   "outputs": [],
   "source": [
    "import os\n",
    "from torchvision import datasets, transforms\n",
    "from torch.utils.data import DataLoader\n",
    "\n",
    "def create_train_val_test_dataloaders(data_dir, batch_size, num_workers=4):\n",
    "    # Define specific transformations for each dataset\n",
    "    data_transforms = {\n",
    "        'train': transforms.Compose([\n",
    "            transforms.Resize((244, 244)),\n",
    "            transforms.ToTensor(),\n",
    "            transforms.Normalize(mean=[0.485, 0.456, 0.406], std=[0.229, 0.224, 0.225]),\n",
    "        ]),\n",
    "        'val': transforms.Compose([\n",
    "            transforms.Resize((244, 244)),\n",
    "            transforms.ToTensor(),\n",
    "            transforms.Normalize(mean=[0.485, 0.456, 0.406], std=[0.229, 0.224, 0.225]),\n",
    "        ]),\n",
    "    }\n",
    "\n",
    "    # Create datasets using specific transformations\n",
    "    image_datasets = {\n",
    "        'train': datasets.ImageFolder(os.path.join(data_dir, 'train'), data_transforms['train']),\n",
    "        'val': datasets.ImageFolder(os.path.join(data_dir, 'val'), data_transforms['val'])\n",
    "    }\n",
    "\n",
    "    # Create dataloaders\n",
    "    dataloaders = {\n",
    "        'train': DataLoader(image_datasets['train'], batch_size=batch_size, shuffle=True, num_workers=num_workers),\n",
    "        'val': DataLoader(image_datasets['val'], batch_size=batch_size, shuffle=False, num_workers=num_workers)\n",
    "    }\n",
    "    return dataloaders\n",
    "\n",
    "data_dir = 'Dataset/'\n",
    "batch_size = 32\n",
    "dataloaders = create_train_val_test_dataloaders(data_dir, batch_size)"
   ]
  },
  {
   "cell_type": "code",
   "execution_count": 2,
   "id": "56f5239e-5cf0-423e-a85d-0baa6a39e1df",
   "metadata": {
    "colab": {
     "base_uri": "https://localhost:8080/"
    },
    "id": "56f5239e-5cf0-423e-a85d-0baa6a39e1df",
    "outputId": "8918dd06-5cb7-46c2-df8e-ad31b5f9490f"
   },
   "outputs": [
    {
     "data": {
      "text/plain": [
       "device(type='cuda')"
      ]
     },
     "execution_count": 2,
     "metadata": {},
     "output_type": "execute_result"
    }
   ],
   "source": [
    "import torch\n",
    "# Check if GPU is available and set the device accordingly\n",
    "device = torch.device(\"cuda\" if torch.cuda.is_available() else \"cpu\")\n",
    "device"
   ]
  },
  {
   "cell_type": "markdown",
   "id": "b2511af1-af9a-444c-9ca9-c87fde42cdaa",
   "metadata": {
    "id": "b2511af1-af9a-444c-9ca9-c87fde42cdaa"
   },
   "source": [
    "## Load Models"
   ]
  },
  {
   "cell_type": "code",
   "execution_count": 4,
   "id": "a922e780-d334-4702-a6be-bd296f0d4243",
   "metadata": {
    "id": "a922e780-d334-4702-a6be-bd296f0d4243"
   },
   "outputs": [],
   "source": [
    "import torch\n",
    "import torch.nn as nn\n",
    "import torch.optim as optim\n",
    "from torchvision import models\n",
    "\n",
    "def load_resnet50(num_classes):\n",
    "    model =  models.resnet50(weights='ResNet50_Weights.DEFAULT')\n",
    "    num_features = model.fc.in_features\n",
    "    model.fc = nn.Linear(num_features, num_classes)\n",
    "    return model\n",
    "\n",
    "def load_efficientnet_b0(num_classes):\n",
    "    model = models.efficientnet_b0(weights='EfficientNet_B0_Weights.DEFAULT')\n",
    "    num_features = model.classifier[1].in_features\n",
    "    model.classifier[1] = nn.Linear(num_features, num_classes)\n",
    "    return model\n",
    "\n",
    "def load_mobilenet_v3_large(num_classes):\n",
    "    model = models.mobilenet_v3_large(weights='MobileNet_V3_Large_Weights.DEFAULT')\n",
    "    num_features = model.classifier[3].in_features\n",
    "    model.classifier[3] = nn.Linear(num_features, num_classes)\n",
    "    return model"
   ]
  },
  {
   "cell_type": "markdown",
   "id": "39acfe5e-6b6f-415a-9451-3b0420665d03",
   "metadata": {
    "id": "39acfe5e-6b6f-415a-9451-3b0420665d03"
   },
   "source": [
    "## Training"
   ]
  },
  {
   "cell_type": "code",
   "execution_count": 5,
   "id": "c2878010-e38d-4680-bfe7-9a34883873d2",
   "metadata": {
    "id": "c2878010-e38d-4680-bfe7-9a34883873d2"
   },
   "outputs": [],
   "source": [
    "from tqdm import tqdm\n",
    "import torch\n",
    "import os\n",
    "\n",
    "def train_model(model, dataloaders, criterion, optimizer, num_epochs, save_dir):\n",
    "    train_loader = dataloaders['train']\n",
    "    test_loader = dataloaders['val']\n",
    "\n",
    "    for epoch in range(num_epochs):\n",
    "        # Training phase\n",
    "        model.train()\n",
    "        running_train_loss = 0.0\n",
    "        correct_train = 0\n",
    "        total_train = 0\n",
    "\n",
    "        for inputs, labels in tqdm(train_loader, desc=f'Epoch {epoch+1}/{num_epochs} - Training'):\n",
    "            inputs, labels = inputs.to(device), labels.to(device)\n",
    "\n",
    "            optimizer.zero_grad()\n",
    "\n",
    "            outputs = model(inputs).squeeze()\n",
    "            loss = criterion(outputs, labels.float())\n",
    "\n",
    "            running_train_loss += loss.item() * inputs.size(0)\n",
    "\n",
    "            # Calculate accuracy\n",
    "            predicted = torch.round(torch.sigmoid(outputs))\n",
    "            correct_train += (predicted == labels.float()).sum().item()\n",
    "            total_train += labels.size(0)\n",
    "\n",
    "        train_loss = running_train_loss / len(train_loader.dataset)\n",
    "        train_acc = correct_train / total_train\n",
    "\n",
    "        # Validation phase\n",
    "        model.eval()\n",
    "        running_val_loss = 0.0\n",
    "        correct_val = 0\n",
    "        total_val = 0\n",
    "\n",
    "        with torch.no_grad():\n",
    "            for inputs, labels in tqdm(test_loader, desc=f'Epoch {epoch+1}/{num_epochs} - Validation'):\n",
    "                inputs, labels = inputs.to(device), labels.to(device)\n",
    "\n",
    "                outputs = model(inputs).squeeze()\n",
    "                loss = criterion(outputs, labels.float())\n",
    "\n",
    "                running_val_loss += loss.item() * inputs.size(0)\n",
    "\n",
    "                # Calculate accuracy\n",
    "                predicted = torch.round(torch.sigmoid(outputs))\n",
    "                correct_val += (predicted == labels.float()).sum().item()\n",
    "                total_val += labels.size(0)\n",
    "\n",
    "        val_loss = running_val_loss / len(test_loader.dataset)\n",
    "        val_acc = correct_val / total_val\n",
    "\n",
    "        # Print epoch statistics\n",
    "        print(f'Epoch [{epoch+1}/{num_epochs}] - '\n",
    "              f'Train Loss: {train_loss:.4f}, Train Acc: {train_acc*100:.2f}%, '\n",
    "              f'Val Loss: {val_loss:.4f}, Val Acc: {val_acc*100:.2f}%')\n",
    "\n",
    "        # Save the model after each epoch\n",
    "        torch.save(model.state_dict(), os.path.join(save_dir, f'model_epoch_{epoch+1}.pth'))\n",
    "\n",
    "    print('Training complete.')"
   ]
  },
  {
   "cell_type": "markdown",
   "id": "9ff6148b-f304-4acb-a2c5-044a1ab9a168",
   "metadata": {},
   "source": [
    "## EfficientNet"
   ]
  },
  {
   "cell_type": "code",
   "execution_count": 6,
   "id": "f05a9e53-e7e1-44c5-9742-623e2d494937",
   "metadata": {},
   "outputs": [
    {
     "name": "stderr",
     "output_type": "stream",
     "text": [
      "Epoch 1/10 - Training: 100%|█████████████████████████████████████████████████████████| 219/219 [00:38<00:00,  5.71it/s]\n",
      "Epoch 1/10 - Validation: 100%|█████████████████████████████████████████████████████████| 94/94 [00:18<00:00,  5.18it/s]\n"
     ]
    },
    {
     "name": "stdout",
     "output_type": "stream",
     "text": [
      "Epoch [1/10] - Train Loss: 0.2145, Train Acc: 91.24%, Val Loss: 0.0762, Val Acc: 97.50%\n"
     ]
    },
    {
     "name": "stderr",
     "output_type": "stream",
     "text": [
      "Epoch 2/10 - Training: 100%|█████████████████████████████████████████████████████████| 219/219 [00:36<00:00,  6.04it/s]\n",
      "Epoch 2/10 - Validation: 100%|█████████████████████████████████████████████████████████| 94/94 [00:14<00:00,  6.53it/s]\n"
     ]
    },
    {
     "name": "stdout",
     "output_type": "stream",
     "text": [
      "Epoch [2/10] - Train Loss: 0.0736, Train Acc: 97.23%, Val Loss: 0.1240, Val Acc: 96.07%\n"
     ]
    },
    {
     "name": "stderr",
     "output_type": "stream",
     "text": [
      "Epoch 3/10 - Training: 100%|█████████████████████████████████████████████████████████| 219/219 [00:36<00:00,  5.92it/s]\n",
      "Epoch 3/10 - Validation: 100%|█████████████████████████████████████████████████████████| 94/94 [00:13<00:00,  6.74it/s]\n"
     ]
    },
    {
     "name": "stdout",
     "output_type": "stream",
     "text": [
      "Epoch [3/10] - Train Loss: 0.0517, Train Acc: 98.01%, Val Loss: 0.0826, Val Acc: 97.07%\n"
     ]
    },
    {
     "name": "stderr",
     "output_type": "stream",
     "text": [
      "Epoch 4/10 - Training: 100%|█████████████████████████████████████████████████████████| 219/219 [00:35<00:00,  6.09it/s]\n",
      "Epoch 4/10 - Validation: 100%|█████████████████████████████████████████████████████████| 94/94 [00:14<00:00,  6.70it/s]\n"
     ]
    },
    {
     "name": "stdout",
     "output_type": "stream",
     "text": [
      "Epoch [4/10] - Train Loss: 0.0453, Train Acc: 98.44%, Val Loss: 0.0478, Val Acc: 98.27%\n"
     ]
    },
    {
     "name": "stderr",
     "output_type": "stream",
     "text": [
      "Epoch 5/10 - Training: 100%|█████████████████████████████████████████████████████████| 219/219 [00:36<00:00,  6.08it/s]\n",
      "Epoch 5/10 - Validation: 100%|█████████████████████████████████████████████████████████| 94/94 [00:13<00:00,  6.81it/s]\n"
     ]
    },
    {
     "name": "stdout",
     "output_type": "stream",
     "text": [
      "Epoch [5/10] - Train Loss: 0.0344, Train Acc: 98.79%, Val Loss: 0.2222, Val Acc: 92.37%\n"
     ]
    },
    {
     "name": "stderr",
     "output_type": "stream",
     "text": [
      "Epoch 6/10 - Training: 100%|█████████████████████████████████████████████████████████| 219/219 [00:36<00:00,  6.05it/s]\n",
      "Epoch 6/10 - Validation: 100%|█████████████████████████████████████████████████████████| 94/94 [00:13<00:00,  6.72it/s]\n"
     ]
    },
    {
     "name": "stdout",
     "output_type": "stream",
     "text": [
      "Epoch [6/10] - Train Loss: 0.0286, Train Acc: 99.13%, Val Loss: 0.0642, Val Acc: 97.77%\n"
     ]
    },
    {
     "name": "stderr",
     "output_type": "stream",
     "text": [
      "Epoch 7/10 - Training: 100%|█████████████████████████████████████████████████████████| 219/219 [00:36<00:00,  6.08it/s]\n",
      "Epoch 7/10 - Validation: 100%|█████████████████████████████████████████████████████████| 94/94 [00:13<00:00,  6.80it/s]\n"
     ]
    },
    {
     "name": "stdout",
     "output_type": "stream",
     "text": [
      "Epoch [7/10] - Train Loss: 0.0305, Train Acc: 98.81%, Val Loss: 0.2300, Val Acc: 91.63%\n"
     ]
    },
    {
     "name": "stderr",
     "output_type": "stream",
     "text": [
      "Epoch 8/10 - Training: 100%|█████████████████████████████████████████████████████████| 219/219 [00:36<00:00,  6.08it/s]\n",
      "Epoch 8/10 - Validation: 100%|█████████████████████████████████████████████████████████| 94/94 [00:13<00:00,  6.79it/s]\n"
     ]
    },
    {
     "name": "stdout",
     "output_type": "stream",
     "text": [
      "Epoch [8/10] - Train Loss: 0.0212, Train Acc: 99.20%, Val Loss: 0.0517, Val Acc: 98.40%\n"
     ]
    },
    {
     "name": "stderr",
     "output_type": "stream",
     "text": [
      "Epoch 9/10 - Training: 100%|█████████████████████████████████████████████████████████| 219/219 [00:36<00:00,  6.04it/s]\n",
      "Epoch 9/10 - Validation: 100%|█████████████████████████████████████████████████████████| 94/94 [00:13<00:00,  6.73it/s]\n"
     ]
    },
    {
     "name": "stdout",
     "output_type": "stream",
     "text": [
      "Epoch [9/10] - Train Loss: 0.0229, Train Acc: 99.17%, Val Loss: 0.0422, Val Acc: 98.27%\n"
     ]
    },
    {
     "name": "stderr",
     "output_type": "stream",
     "text": [
      "Epoch 10/10 - Training: 100%|████████████████████████████████████████████████████████| 219/219 [00:36<00:00,  6.07it/s]\n",
      "Epoch 10/10 - Validation: 100%|████████████████████████████████████████████████████████| 94/94 [00:13<00:00,  6.88it/s]"
     ]
    },
    {
     "name": "stdout",
     "output_type": "stream",
     "text": [
      "Epoch [10/10] - Train Loss: 0.0207, Train Acc: 99.29%, Val Loss: 0.0472, Val Acc: 98.23%\n",
      "Training complete.\n"
     ]
    },
    {
     "name": "stderr",
     "output_type": "stream",
     "text": [
      "\n"
     ]
    }
   ],
   "source": [
    "model = load_efficientnet_b0(num_classes=1).to(device)\n",
    "criterion = nn.BCEWithLogitsLoss()\n",
    "optimizer = optim.Adam(model.parameters(), lr=0.001)\n",
    "train_model(model, dataloaders, criterion, optimizer, num_epochs=10, save_dir='Checkpoints/efficientnet')"
   ]
  },
  {
   "cell_type": "markdown",
   "id": "e42bf7d6-df0b-4c07-8aee-ec5a1b3d8294",
   "metadata": {},
   "source": [
    "## Mobilenet_v3_large"
   ]
  },
  {
   "cell_type": "code",
   "execution_count": 7,
   "id": "928be257-0ee2-47a5-8793-4e1081a2e4d2",
   "metadata": {},
   "outputs": [
    {
     "name": "stderr",
     "output_type": "stream",
     "text": [
      "Epoch 1/10 - Training: 100%|█████████████████████████████████████████████████████████| 219/219 [00:25<00:00,  8.74it/s]\n",
      "Epoch 1/10 - Validation: 100%|█████████████████████████████████████████████████████████| 94/94 [00:12<00:00,  7.33it/s]\n"
     ]
    },
    {
     "name": "stdout",
     "output_type": "stream",
     "text": [
      "Epoch [1/10] - Train Loss: 0.2054, Train Acc: 91.96%, Val Loss: 0.6805, Val Acc: 85.60%\n"
     ]
    },
    {
     "name": "stderr",
     "output_type": "stream",
     "text": [
      "Epoch 2/10 - Training: 100%|█████████████████████████████████████████████████████████| 219/219 [00:25<00:00,  8.66it/s]\n",
      "Epoch 2/10 - Validation: 100%|█████████████████████████████████████████████████████████| 94/94 [00:12<00:00,  7.33it/s]\n"
     ]
    },
    {
     "name": "stdout",
     "output_type": "stream",
     "text": [
      "Epoch [2/10] - Train Loss: 0.0647, Train Acc: 97.57%, Val Loss: 0.7714, Val Acc: 82.57%\n"
     ]
    },
    {
     "name": "stderr",
     "output_type": "stream",
     "text": [
      "Epoch 3/10 - Training: 100%|█████████████████████████████████████████████████████████| 219/219 [00:25<00:00,  8.69it/s]\n",
      "Epoch 3/10 - Validation: 100%|█████████████████████████████████████████████████████████| 94/94 [00:12<00:00,  7.53it/s]\n"
     ]
    },
    {
     "name": "stdout",
     "output_type": "stream",
     "text": [
      "Epoch [3/10] - Train Loss: 0.0464, Train Acc: 98.33%, Val Loss: 0.1047, Val Acc: 97.03%\n"
     ]
    },
    {
     "name": "stderr",
     "output_type": "stream",
     "text": [
      "Epoch 4/10 - Training: 100%|█████████████████████████████████████████████████████████| 219/219 [00:24<00:00,  8.77it/s]\n",
      "Epoch 4/10 - Validation: 100%|█████████████████████████████████████████████████████████| 94/94 [00:12<00:00,  7.41it/s]\n"
     ]
    },
    {
     "name": "stdout",
     "output_type": "stream",
     "text": [
      "Epoch [4/10] - Train Loss: 0.0379, Train Acc: 98.69%, Val Loss: 0.1343, Val Acc: 96.00%\n"
     ]
    },
    {
     "name": "stderr",
     "output_type": "stream",
     "text": [
      "Epoch 5/10 - Training: 100%|█████████████████████████████████████████████████████████| 219/219 [00:25<00:00,  8.62it/s]\n",
      "Epoch 5/10 - Validation: 100%|█████████████████████████████████████████████████████████| 94/94 [00:12<00:00,  7.54it/s]\n"
     ]
    },
    {
     "name": "stdout",
     "output_type": "stream",
     "text": [
      "Epoch [5/10] - Train Loss: 0.0345, Train Acc: 98.71%, Val Loss: 0.0752, Val Acc: 97.20%\n"
     ]
    },
    {
     "name": "stderr",
     "output_type": "stream",
     "text": [
      "Epoch 6/10 - Training: 100%|█████████████████████████████████████████████████████████| 219/219 [00:25<00:00,  8.75it/s]\n",
      "Epoch 6/10 - Validation: 100%|█████████████████████████████████████████████████████████| 94/94 [00:12<00:00,  7.54it/s]\n"
     ]
    },
    {
     "name": "stdout",
     "output_type": "stream",
     "text": [
      "Epoch [6/10] - Train Loss: 0.0304, Train Acc: 98.91%, Val Loss: 0.1939, Val Acc: 95.37%\n"
     ]
    },
    {
     "name": "stderr",
     "output_type": "stream",
     "text": [
      "Epoch 7/10 - Training: 100%|█████████████████████████████████████████████████████████| 219/219 [00:24<00:00,  8.78it/s]\n",
      "Epoch 7/10 - Validation: 100%|█████████████████████████████████████████████████████████| 94/94 [00:12<00:00,  7.53it/s]\n"
     ]
    },
    {
     "name": "stdout",
     "output_type": "stream",
     "text": [
      "Epoch [7/10] - Train Loss: 0.0212, Train Acc: 99.23%, Val Loss: 0.0910, Val Acc: 96.80%\n"
     ]
    },
    {
     "name": "stderr",
     "output_type": "stream",
     "text": [
      "Epoch 8/10 - Training: 100%|█████████████████████████████████████████████████████████| 219/219 [00:24<00:00,  8.81it/s]\n",
      "Epoch 8/10 - Validation: 100%|█████████████████████████████████████████████████████████| 94/94 [00:12<00:00,  7.46it/s]\n"
     ]
    },
    {
     "name": "stdout",
     "output_type": "stream",
     "text": [
      "Epoch [8/10] - Train Loss: 0.0148, Train Acc: 99.49%, Val Loss: 0.3298, Val Acc: 91.13%\n"
     ]
    },
    {
     "name": "stderr",
     "output_type": "stream",
     "text": [
      "Epoch 9/10 - Training: 100%|█████████████████████████████████████████████████████████| 219/219 [00:24<00:00,  8.79it/s]\n",
      "Epoch 9/10 - Validation: 100%|█████████████████████████████████████████████████████████| 94/94 [00:12<00:00,  7.50it/s]\n"
     ]
    },
    {
     "name": "stdout",
     "output_type": "stream",
     "text": [
      "Epoch [9/10] - Train Loss: 0.0251, Train Acc: 99.06%, Val Loss: 0.0642, Val Acc: 97.47%\n"
     ]
    },
    {
     "name": "stderr",
     "output_type": "stream",
     "text": [
      "Epoch 10/10 - Training: 100%|████████████████████████████████████████████████████████| 219/219 [00:25<00:00,  8.73it/s]\n",
      "Epoch 10/10 - Validation: 100%|████████████████████████████████████████████████████████| 94/94 [00:12<00:00,  7.56it/s]"
     ]
    },
    {
     "name": "stdout",
     "output_type": "stream",
     "text": [
      "Epoch [10/10] - Train Loss: 0.0189, Train Acc: 99.26%, Val Loss: 0.1348, Val Acc: 96.07%\n",
      "Training complete.\n"
     ]
    },
    {
     "name": "stderr",
     "output_type": "stream",
     "text": [
      "\n"
     ]
    }
   ],
   "source": [
    "model = load_mobilenet_v3_large(num_classes=1).to(device)\n",
    "criterion = nn.BCEWithLogitsLoss()\n",
    "optimizer = optim.Adam(model.parameters(), lr=0.001)\n",
    "train_model(model, dataloaders, criterion, optimizer, num_epochs=10, save_dir='Checkpoints/mobilenet_v3_large')"
   ]
  },
  {
   "cell_type": "markdown",
   "id": "52283a37-8a64-411b-b2db-f1d6f32482f6",
   "metadata": {},
   "source": [
    "## ResNet50"
   ]
  },
  {
   "cell_type": "code",
   "execution_count": 8,
   "id": "921c0d83-2709-42ca-9545-0d31e3c6f941",
   "metadata": {},
   "outputs": [
    {
     "name": "stderr",
     "output_type": "stream",
     "text": [
      "Epoch 1/10 - Training: 100%|█████████████████████████████████████████████████████████| 219/219 [00:55<00:00,  3.96it/s]\n",
      "Epoch 1/10 - Validation: 100%|█████████████████████████████████████████████████████████| 94/94 [00:16<00:00,  5.62it/s]\n"
     ]
    },
    {
     "name": "stdout",
     "output_type": "stream",
     "text": [
      "Epoch [1/10] - Train Loss: 0.3564, Train Acc: 84.16%, Val Loss: 0.2744, Val Acc: 89.00%\n"
     ]
    },
    {
     "name": "stderr",
     "output_type": "stream",
     "text": [
      "Epoch 2/10 - Training: 100%|█████████████████████████████████████████████████████████| 219/219 [00:54<00:00,  4.05it/s]\n",
      "Epoch 2/10 - Validation: 100%|█████████████████████████████████████████████████████████| 94/94 [00:16<00:00,  5.55it/s]\n"
     ]
    },
    {
     "name": "stdout",
     "output_type": "stream",
     "text": [
      "Epoch [2/10] - Train Loss: 0.1667, Train Acc: 93.37%, Val Loss: 1.2115, Val Acc: 58.17%\n"
     ]
    },
    {
     "name": "stderr",
     "output_type": "stream",
     "text": [
      "Epoch 3/10 - Training: 100%|█████████████████████████████████████████████████████████| 219/219 [00:54<00:00,  4.04it/s]\n",
      "Epoch 3/10 - Validation: 100%|█████████████████████████████████████████████████████████| 94/94 [00:16<00:00,  5.55it/s]\n"
     ]
    },
    {
     "name": "stdout",
     "output_type": "stream",
     "text": [
      "Epoch [3/10] - Train Loss: 0.1055, Train Acc: 95.99%, Val Loss: 0.3324, Val Acc: 92.93%\n"
     ]
    },
    {
     "name": "stderr",
     "output_type": "stream",
     "text": [
      "Epoch 4/10 - Training: 100%|█████████████████████████████████████████████████████████| 219/219 [00:54<00:00,  4.05it/s]\n",
      "Epoch 4/10 - Validation: 100%|█████████████████████████████████████████████████████████| 94/94 [00:17<00:00,  5.48it/s]\n"
     ]
    },
    {
     "name": "stdout",
     "output_type": "stream",
     "text": [
      "Epoch [4/10] - Train Loss: 0.0791, Train Acc: 97.21%, Val Loss: 0.1884, Val Acc: 93.80%\n"
     ]
    },
    {
     "name": "stderr",
     "output_type": "stream",
     "text": [
      "Epoch 5/10 - Training: 100%|█████████████████████████████████████████████████████████| 219/219 [00:54<00:00,  4.03it/s]\n",
      "Epoch 5/10 - Validation: 100%|█████████████████████████████████████████████████████████| 94/94 [00:17<00:00,  5.52it/s]\n"
     ]
    },
    {
     "name": "stdout",
     "output_type": "stream",
     "text": [
      "Epoch [5/10] - Train Loss: 0.0583, Train Acc: 97.86%, Val Loss: 0.1447, Val Acc: 95.10%\n"
     ]
    },
    {
     "name": "stderr",
     "output_type": "stream",
     "text": [
      "Epoch 6/10 - Training: 100%|█████████████████████████████████████████████████████████| 219/219 [00:54<00:00,  4.04it/s]\n",
      "Epoch 6/10 - Validation: 100%|█████████████████████████████████████████████████████████| 94/94 [00:17<00:00,  5.48it/s]\n"
     ]
    },
    {
     "name": "stdout",
     "output_type": "stream",
     "text": [
      "Epoch [6/10] - Train Loss: 0.0545, Train Acc: 98.09%, Val Loss: 0.3688, Val Acc: 89.07%\n"
     ]
    },
    {
     "name": "stderr",
     "output_type": "stream",
     "text": [
      "Epoch 7/10 - Training: 100%|█████████████████████████████████████████████████████████| 219/219 [00:54<00:00,  4.04it/s]\n",
      "Epoch 7/10 - Validation: 100%|█████████████████████████████████████████████████████████| 94/94 [00:17<00:00,  5.51it/s]\n"
     ]
    },
    {
     "name": "stdout",
     "output_type": "stream",
     "text": [
      "Epoch [7/10] - Train Loss: 0.0524, Train Acc: 98.16%, Val Loss: 0.1530, Val Acc: 94.63%\n"
     ]
    },
    {
     "name": "stderr",
     "output_type": "stream",
     "text": [
      "Epoch 8/10 - Training: 100%|█████████████████████████████████████████████████████████| 219/219 [00:54<00:00,  4.04it/s]\n",
      "Epoch 8/10 - Validation: 100%|█████████████████████████████████████████████████████████| 94/94 [00:16<00:00,  5.61it/s]\n"
     ]
    },
    {
     "name": "stdout",
     "output_type": "stream",
     "text": [
      "Epoch [8/10] - Train Loss: 0.0362, Train Acc: 98.44%, Val Loss: 0.1561, Val Acc: 94.90%\n"
     ]
    },
    {
     "name": "stderr",
     "output_type": "stream",
     "text": [
      "Epoch 9/10 - Training: 100%|█████████████████████████████████████████████████████████| 219/219 [00:54<00:00,  4.05it/s]\n",
      "Epoch 9/10 - Validation: 100%|█████████████████████████████████████████████████████████| 94/94 [00:16<00:00,  5.55it/s]\n"
     ]
    },
    {
     "name": "stdout",
     "output_type": "stream",
     "text": [
      "Epoch [9/10] - Train Loss: 0.0445, Train Acc: 98.30%, Val Loss: 0.2080, Val Acc: 92.73%\n"
     ]
    },
    {
     "name": "stderr",
     "output_type": "stream",
     "text": [
      "Epoch 10/10 - Training: 100%|████████████████████████████████████████████████████████| 219/219 [00:54<00:00,  4.03it/s]\n",
      "Epoch 10/10 - Validation: 100%|████████████████████████████████████████████████████████| 94/94 [00:17<00:00,  5.51it/s]"
     ]
    },
    {
     "name": "stdout",
     "output_type": "stream",
     "text": [
      "Epoch [10/10] - Train Loss: 0.0290, Train Acc: 98.99%, Val Loss: 0.3451, Val Acc: 90.70%\n",
      "Training complete.\n"
     ]
    },
    {
     "name": "stderr",
     "output_type": "stream",
     "text": [
      "\n"
     ]
    }
   ],
   "source": [
    "model = load_resnet50(num_classes=1).to(device)\n",
    "criterion = nn.BCEWithLogitsLoss()\n",
    "optimizer = optim.Adam(model.parameters(), lr=0.001)\n",
    "train_model(model, dataloaders, criterion, optimizer, num_epochs=10, save_dir='Checkpoints/resnet50')"
   ]
  }
 ],
 "metadata": {
  "accelerator": "GPU",
  "colab": {
   "gpuType": "T4",
   "provenance": []
  },
  "kernelspec": {
   "display_name": "Python 3 (ipykernel)",
   "language": "python",
   "name": "python3"
  },
  "language_info": {
   "codemirror_mode": {
    "name": "ipython",
    "version": 3
   },
   "file_extension": ".py",
   "mimetype": "text/x-python",
   "name": "python",
   "nbconvert_exporter": "python",
   "pygments_lexer": "ipython3",
   "version": "3.11.7"
  }
 },
 "nbformat": 4,
 "nbformat_minor": 5
}
